{
 "cells": [
  {
   "cell_type": "markdown",
   "metadata": {},
   "source": [
    "# Linear Algebra"
   ]
  },
  {
   "cell_type": "code",
   "execution_count": 1,
   "metadata": {},
   "outputs": [],
   "source": [
    "import numpy as np"
   ]
  },
  {
   "cell_type": "code",
   "execution_count": 3,
   "metadata": {},
   "outputs": [],
   "source": [
    "x = np.array([[1,2,3],[4,5,6],[7,8,9]])"
   ]
  },
  {
   "cell_type": "code",
   "execution_count": 4,
   "metadata": {},
   "outputs": [
    {
     "data": {
      "text/plain": [
       "array([[1, 2, 3],\n",
       "       [4, 5, 6],\n",
       "       [7, 8, 9]])"
      ]
     },
     "execution_count": 4,
     "metadata": {},
     "output_type": "execute_result"
    }
   ],
   "source": [
    "x"
   ]
  },
  {
   "cell_type": "code",
   "execution_count": 5,
   "metadata": {},
   "outputs": [],
   "source": [
    "y = np.array([[10,11,12],[13,14,15],[16,17,18]])"
   ]
  },
  {
   "cell_type": "code",
   "execution_count": 6,
   "metadata": {},
   "outputs": [
    {
     "data": {
      "text/plain": [
       "array([[10, 11, 12],\n",
       "       [13, 14, 15],\n",
       "       [16, 17, 18]])"
      ]
     },
     "execution_count": 6,
     "metadata": {},
     "output_type": "execute_result"
    }
   ],
   "source": [
    "y"
   ]
  },
  {
   "cell_type": "code",
   "execution_count": 7,
   "metadata": {},
   "outputs": [
    {
     "data": {
      "text/plain": [
       "array([[ 84,  90,  96],\n",
       "       [201, 216, 231],\n",
       "       [318, 342, 366]])"
      ]
     },
     "execution_count": 7,
     "metadata": {},
     "output_type": "execute_result"
    }
   ],
   "source": [
    "x.dot(y)"
   ]
  },
  {
   "cell_type": "code",
   "execution_count": 8,
   "metadata": {},
   "outputs": [
    {
     "data": {
      "text/plain": [
       "array([[ 84,  90,  96],\n",
       "       [201, 216, 231],\n",
       "       [318, 342, 366]])"
      ]
     },
     "execution_count": 8,
     "metadata": {},
     "output_type": "execute_result"
    }
   ],
   "source": [
    "np.dot(x,y)"
   ]
  },
  {
   "cell_type": "code",
   "execution_count": 9,
   "metadata": {},
   "outputs": [
    {
     "data": {
      "text/plain": [
       "array([ 1.,  1.,  1.])"
      ]
     },
     "execution_count": 9,
     "metadata": {},
     "output_type": "execute_result"
    }
   ],
   "source": [
    "np.ones(3)"
   ]
  },
  {
   "cell_type": "code",
   "execution_count": 10,
   "metadata": {},
   "outputs": [
    {
     "data": {
      "text/plain": [
       "array([  6.,  15.,  24.])"
      ]
     },
     "execution_count": 10,
     "metadata": {},
     "output_type": "execute_result"
    }
   ],
   "source": [
    "np.dot(x, np.ones(3))"
   ]
  },
  {
   "cell_type": "markdown",
   "metadata": {},
   "source": [
    "# numpy.linalg has a standard set of matrix decompositions and things like inverse"
   ]
  },
  {
   "cell_type": "code",
   "execution_count": 11,
   "metadata": {},
   "outputs": [],
   "source": [
    "from numpy.linalg import inv, qr"
   ]
  },
  {
   "cell_type": "code",
   "execution_count": 13,
   "metadata": {},
   "outputs": [],
   "source": [
    "x = np.random.randn(5,5)"
   ]
  },
  {
   "cell_type": "code",
   "execution_count": 14,
   "metadata": {},
   "outputs": [
    {
     "data": {
      "text/plain": [
       "array([[ 0.53392238,  0.29123154, -0.37104124, -0.41214735,  0.36867917],\n",
       "       [ 0.49641461,  0.77700296,  1.79979704, -2.69480893,  0.21112662],\n",
       "       [-1.17780799, -0.27610843, -0.03459016,  1.53881471, -0.85607889],\n",
       "       [-1.14622244,  0.58652575,  1.50670232,  0.67706644, -0.1265547 ],\n",
       "       [-0.3889811 , -0.21748252,  0.20625541, -0.34575706, -1.73621474]])"
      ]
     },
     "execution_count": 14,
     "metadata": {},
     "output_type": "execute_result"
    }
   ],
   "source": [
    "X"
   ]
  },
  {
   "cell_type": "code",
   "execution_count": 15,
   "metadata": {},
   "outputs": [
    {
     "data": {
      "text/plain": [
       "array([[ 3.26058623,  0.16855763,  0.5877716 , -0.54733175,  0.08591769],\n",
       "       [ 0.54267268,  0.29704257,  0.63560673,  1.38051324,  0.81581309],\n",
       "       [-0.71145639,  0.0719879 ,  0.84574857,  1.15903542, -0.22114325],\n",
       "       [-0.51357588, -0.76013148, -0.85576311, -0.51974412,  1.07000003],\n",
       "       [ 0.09794364, -1.52223058,  0.58577608, -0.09541349,  1.68768888]])"
      ]
     },
     "execution_count": 15,
     "metadata": {},
     "output_type": "execute_result"
    }
   ],
   "source": [
    "x"
   ]
  },
  {
   "cell_type": "code",
   "execution_count": 16,
   "metadata": {},
   "outputs": [],
   "source": [
    "mat = np.dot(x.T, x)"
   ]
  },
  {
   "cell_type": "code",
   "execution_count": 17,
   "metadata": {},
   "outputs": [
    {
     "data": {
      "text/plain": [
       "array([[ 11.70543954,   0.9008697 ,   2.1565655 ,  -1.60247579,\n",
       "          0.49596746],\n",
       "       [  0.9008697 ,   3.01681401,   0.10756553,   0.94156599,\n",
       "         -3.14149867],\n",
       "       [  2.1565655 ,   0.10756553,   2.54022613,   1.92489691,\n",
       "          0.45494591],\n",
       "       [ -1.60247579,   0.94156599,   1.92489691,   3.82798964,\n",
       "          0.10574791],\n",
       "       [  0.49596746,  -3.14149867,   0.45494591,   0.10574791,   4.715031  ]])"
      ]
     },
     "execution_count": 17,
     "metadata": {},
     "output_type": "execute_result"
    }
   ],
   "source": [
    "mat"
   ]
  },
  {
   "cell_type": "code",
   "execution_count": 18,
   "metadata": {},
   "outputs": [
    {
     "data": {
      "text/plain": [
       "array([[  4.24945864, -12.02790408,  -8.80686624,   9.38198442,\n",
       "         -7.82152129],\n",
       "       [-12.02790408,  35.582843  ,  25.02329236, -27.01022632,\n",
       "         23.16441473],\n",
       "       [ -8.80686624,  25.02329236,  18.908097  , -19.79761459,\n",
       "         16.21833532],\n",
       "       [  9.38198442, -27.01022632, -19.79761459,  21.27240552,\n",
       "        -17.54992019],\n",
       "       [ -7.82152129,  23.16441473,  16.21833532, -17.54992019,\n",
       "         15.29737562]])"
      ]
     },
     "execution_count": 18,
     "metadata": {},
     "output_type": "execute_result"
    }
   ],
   "source": [
    "inv(mat)"
   ]
  },
  {
   "cell_type": "code",
   "execution_count": 19,
   "metadata": {},
   "outputs": [
    {
     "data": {
      "text/plain": [
       "array([[  1.00000000e+00,   7.10542736e-15,   3.55271368e-15,\n",
       "         -7.10542736e-15,  -3.55271368e-15],\n",
       "       [  3.55271368e-15,   1.00000000e+00,   0.00000000e+00,\n",
       "         -1.42108547e-14,  -2.13162821e-14],\n",
       "       [  3.99680289e-15,   0.00000000e+00,   1.00000000e+00,\n",
       "         -2.66453526e-15,   2.66453526e-15],\n",
       "       [  1.88737914e-15,   7.99360578e-15,  -8.88178420e-16,\n",
       "          1.00000000e+00,  -6.66133815e-15],\n",
       "       [ -7.10542736e-15,  -1.42108547e-14,  -1.42108547e-14,\n",
       "          2.84217094e-14,   1.00000000e+00]])"
      ]
     },
     "execution_count": 19,
     "metadata": {},
     "output_type": "execute_result"
    }
   ],
   "source": [
    "np.dot(mat,inv(mat))"
   ]
  },
  {
   "cell_type": "markdown",
   "metadata": {},
   "source": [
    "# Function Description\n",
    "Return the diagonal (or off-diagonal) elements of a square matrix as a 1D array, or convert a 1D array into a\n",
    "diag\n",
    "square matrix with zeros on the off-diagonal\n",
    "Matrix multiplication\n",
    "dot\n",
    "trace Compute the sum of the diagonal elements\n",
    "Compute the matrix determinant\n",
    "det\n",
    "Compute the eigenvalues and eigenvectors of a square matrix\n",
    "eig\n",
    "Compute the inverse of a square matrix\n",
    "inv\n",
    "Compute the Moore-Penrose pseudo-inverse of a matrix\n",
    "pinv\n",
    "Compute the QR decomposition\n",
    "qr\n",
    "Compute the singular value decomposition (SVD)\n",
    "svd\n",
    "solve Solve the linear system Ax = b for x, where A is a square matrix\n",
    "lstsq Compute the least-squares solution to Ax = b"
   ]
  },
  {
   "cell_type": "markdown",
   "metadata": {},
   "source": [
    "# Pseudorandom Number Generation"
   ]
  },
  {
   "cell_type": "markdown",
   "metadata": {},
   "source": [
    "# The numpy.random module supplements the built-in Python random with functions\n",
    "# for efficiently generating whole arrays of sample values from many kinds of probability distributions."
   ]
  },
  {
   "cell_type": "markdown",
   "metadata": {},
   "source": [
    "#### a 4 × 4 array of samples from the standard\n",
    "#### normal distribution using normal"
   ]
  },
  {
   "cell_type": "code",
   "execution_count": 20,
   "metadata": {},
   "outputs": [],
   "source": [
    "samples = np.random.normal(4,4)"
   ]
  },
  {
   "cell_type": "code",
   "execution_count": 21,
   "metadata": {},
   "outputs": [
    {
     "data": {
      "text/plain": [
       "6.4172838019461"
      ]
     },
     "execution_count": 21,
     "metadata": {},
     "output_type": "execute_result"
    }
   ],
   "source": [
    "samples"
   ]
  },
  {
   "cell_type": "code",
   "execution_count": 22,
   "metadata": {},
   "outputs": [],
   "source": [
    "samples = np.random.normal(size=(4,4))"
   ]
  },
  {
   "cell_type": "code",
   "execution_count": 23,
   "metadata": {},
   "outputs": [
    {
     "data": {
      "text/plain": [
       "array([[ 0.01675501,  0.91429784, -1.8153921 , -0.23626056],\n",
       "       [-1.01638246,  1.24221887,  1.61524681,  1.02899859],\n",
       "       [ 2.72803722, -0.46546968,  0.35107115,  0.83025362],\n",
       "       [-0.50296431,  0.40583685,  0.51065163, -1.05123632]])"
      ]
     },
     "execution_count": 23,
     "metadata": {},
     "output_type": "execute_result"
    }
   ],
   "source": [
    "samples"
   ]
  },
  {
   "cell_type": "code",
   "execution_count": null,
   "metadata": {},
   "outputs": [],
   "source": []
  }
 ],
 "metadata": {
  "kernelspec": {
   "display_name": "Python 3",
   "language": "python",
   "name": "python3"
  },
  "language_info": {
   "codemirror_mode": {
    "name": "ipython",
    "version": 3
   },
   "file_extension": ".py",
   "mimetype": "text/x-python",
   "name": "python",
   "nbconvert_exporter": "python",
   "pygments_lexer": "ipython3",
   "version": "3.6.5"
  }
 },
 "nbformat": 4,
 "nbformat_minor": 2
}
