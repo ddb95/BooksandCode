{
 "cells": [
  {
   "cell_type": "markdown",
   "metadata": {},
   "source": [
    "# 10.1 GroupBy Mechanics"
   ]
  },
  {
   "cell_type": "code",
   "execution_count": 1,
   "metadata": {},
   "outputs": [],
   "source": [
    "import pandas as pd\n",
    "import numpy as np"
   ]
  },
  {
   "cell_type": "code",
   "execution_count": 2,
   "metadata": {},
   "outputs": [
    {
     "data": {
      "text/html": [
       "<div>\n",
       "<style scoped>\n",
       "    .dataframe tbody tr th:only-of-type {\n",
       "        vertical-align: middle;\n",
       "    }\n",
       "\n",
       "    .dataframe tbody tr th {\n",
       "        vertical-align: top;\n",
       "    }\n",
       "\n",
       "    .dataframe thead th {\n",
       "        text-align: right;\n",
       "    }\n",
       "</style>\n",
       "<table border=\"1\" class=\"dataframe\">\n",
       "  <thead>\n",
       "    <tr style=\"text-align: right;\">\n",
       "      <th></th>\n",
       "      <th>key1</th>\n",
       "      <th>key2</th>\n",
       "      <th>d1</th>\n",
       "      <th>d2</th>\n",
       "    </tr>\n",
       "  </thead>\n",
       "  <tbody>\n",
       "    <tr>\n",
       "      <th>0</th>\n",
       "      <td>a</td>\n",
       "      <td>one</td>\n",
       "      <td>0.535339</td>\n",
       "      <td>-0.394313</td>\n",
       "    </tr>\n",
       "    <tr>\n",
       "      <th>1</th>\n",
       "      <td>a</td>\n",
       "      <td>two</td>\n",
       "      <td>1.706831</td>\n",
       "      <td>-2.246436</td>\n",
       "    </tr>\n",
       "    <tr>\n",
       "      <th>2</th>\n",
       "      <td>b</td>\n",
       "      <td>one</td>\n",
       "      <td>-1.213963</td>\n",
       "      <td>-0.332702</td>\n",
       "    </tr>\n",
       "    <tr>\n",
       "      <th>3</th>\n",
       "      <td>b</td>\n",
       "      <td>two</td>\n",
       "      <td>1.737554</td>\n",
       "      <td>1.105613</td>\n",
       "    </tr>\n",
       "    <tr>\n",
       "      <th>4</th>\n",
       "      <td>a</td>\n",
       "      <td>three</td>\n",
       "      <td>-0.560776</td>\n",
       "      <td>0.006069</td>\n",
       "    </tr>\n",
       "    <tr>\n",
       "      <th>5</th>\n",
       "      <td>a</td>\n",
       "      <td>one</td>\n",
       "      <td>-0.187952</td>\n",
       "      <td>-0.550603</td>\n",
       "    </tr>\n",
       "  </tbody>\n",
       "</table>\n",
       "</div>"
      ],
      "text/plain": [
       "  key1   key2        d1        d2\n",
       "0    a    one  0.535339 -0.394313\n",
       "1    a    two  1.706831 -2.246436\n",
       "2    b    one -1.213963 -0.332702\n",
       "3    b    two  1.737554  1.105613\n",
       "4    a  three -0.560776  0.006069\n",
       "5    a    one -0.187952 -0.550603"
      ]
     },
     "execution_count": 2,
     "metadata": {},
     "output_type": "execute_result"
    }
   ],
   "source": [
    "df = pd.DataFrame({\n",
    "    'key1': ['a','a','b','b','a','a'],\n",
    "    'key2': ['one','two','one','two','three','one'],\n",
    "    'd1': np.random.randn(6),\n",
    "    'd2': np.random.randn(6)\n",
    "})\n",
    "df"
   ]
  },
  {
   "cell_type": "code",
   "execution_count": 3,
   "metadata": {},
   "outputs": [],
   "source": [
    "grouped = df['d1'].groupby(df['key1'])\n",
    "grouped1 = df['d2'].groupby(df['key2'])\n",
    "grouped2 = df['d1'].groupby([df['key1'], df['key2']]).mean()\n",
    "grouped4 = df.groupby(df['key1'])\n"
   ]
  },
  {
   "cell_type": "code",
   "execution_count": 4,
   "metadata": {},
   "outputs": [
    {
     "data": {
      "text/plain": [
       "key1\n",
       "a    0.373361\n",
       "b    0.261796\n",
       "Name: d1, dtype: float64"
      ]
     },
     "execution_count": 4,
     "metadata": {},
     "output_type": "execute_result"
    }
   ],
   "source": [
    "grouped.mean()"
   ]
  },
  {
   "cell_type": "code",
   "execution_count": 5,
   "metadata": {},
   "outputs": [
    {
     "data": {
      "text/plain": [
       "key2\n",
       "one     -0.425873\n",
       "three    0.006069\n",
       "two     -0.570411\n",
       "Name: d2, dtype: float64"
      ]
     },
     "execution_count": 5,
     "metadata": {},
     "output_type": "execute_result"
    }
   ],
   "source": [
    "grouped1.mean()"
   ]
  },
  {
   "cell_type": "code",
   "execution_count": 6,
   "metadata": {},
   "outputs": [
    {
     "data": {
      "text/plain": [
       "key1  key2 \n",
       "a     one      0.173694\n",
       "      three   -0.560776\n",
       "      two      1.706831\n",
       "b     one     -1.213963\n",
       "      two      1.737554\n",
       "Name: d1, dtype: float64"
      ]
     },
     "execution_count": 6,
     "metadata": {},
     "output_type": "execute_result"
    }
   ],
   "source": [
    "grouped2"
   ]
  },
  {
   "cell_type": "code",
   "execution_count": 7,
   "metadata": {},
   "outputs": [
    {
     "data": {
      "text/html": [
       "<div>\n",
       "<style scoped>\n",
       "    .dataframe tbody tr th:only-of-type {\n",
       "        vertical-align: middle;\n",
       "    }\n",
       "\n",
       "    .dataframe tbody tr th {\n",
       "        vertical-align: top;\n",
       "    }\n",
       "\n",
       "    .dataframe thead th {\n",
       "        text-align: right;\n",
       "    }\n",
       "</style>\n",
       "<table border=\"1\" class=\"dataframe\">\n",
       "  <thead>\n",
       "    <tr style=\"text-align: right;\">\n",
       "      <th></th>\n",
       "      <th>d1</th>\n",
       "      <th>d2</th>\n",
       "    </tr>\n",
       "    <tr>\n",
       "      <th>key1</th>\n",
       "      <th></th>\n",
       "      <th></th>\n",
       "    </tr>\n",
       "  </thead>\n",
       "  <tbody>\n",
       "    <tr>\n",
       "      <th>a</th>\n",
       "      <td>0.373361</td>\n",
       "      <td>-0.796321</td>\n",
       "    </tr>\n",
       "    <tr>\n",
       "      <th>b</th>\n",
       "      <td>0.261796</td>\n",
       "      <td>0.386456</td>\n",
       "    </tr>\n",
       "  </tbody>\n",
       "</table>\n",
       "</div>"
      ],
      "text/plain": [
       "            d1        d2\n",
       "key1                    \n",
       "a     0.373361 -0.796321\n",
       "b     0.261796  0.386456"
      ]
     },
     "execution_count": 7,
     "metadata": {},
     "output_type": "execute_result"
    }
   ],
   "source": [
    "grouped4.mean()"
   ]
  },
  {
   "cell_type": "code",
   "execution_count": 8,
   "metadata": {},
   "outputs": [
    {
     "name": "stdout",
     "output_type": "stream",
     "text": [
      "  key1   key2        d1        d2\n",
      "0    a    one  0.535339 -0.394313\n",
      "1    a    two  1.706831 -2.246436\n",
      "2    b    one -1.213963 -0.332702\n",
      "3    b    two  1.737554  1.105613\n",
      "4    a  three -0.560776  0.006069\n",
      "5    a    one -0.187952 -0.550603\n",
      "\n",
      "\n",
      "\n",
      "\n",
      "  key1 key2        d1        d2\n",
      "0    a  one  0.535339 -0.394313\n",
      "5    a  one -0.187952 -0.550603\n",
      "  key1   key2        d1        d2\n",
      "4    a  three -0.560776  0.006069\n",
      "  key1 key2        d1        d2\n",
      "1    a  two  1.706831 -2.246436\n",
      "  key1 key2        d1        d2\n",
      "2    b  one -1.213963 -0.332702\n",
      "  key1 key2        d1        d2\n",
      "3    b  two  1.737554  1.105613\n"
     ]
    }
   ],
   "source": [
    "print(df)\n",
    "print('\\n')\n",
    "print('\\n')\n",
    "for (k1,k2), group in df.groupby(['key1','key2']):\n",
    "#     print(k1)\n",
    "#     print(k2)\n",
    "    print(group)"
   ]
  },
  {
   "cell_type": "code",
   "execution_count": 9,
   "metadata": {},
   "outputs": [],
   "source": [
    "pieces = dict(list(df.groupby('key1')))"
   ]
  },
  {
   "cell_type": "code",
   "execution_count": 10,
   "metadata": {},
   "outputs": [
    {
     "data": {
      "text/html": [
       "<div>\n",
       "<style scoped>\n",
       "    .dataframe tbody tr th:only-of-type {\n",
       "        vertical-align: middle;\n",
       "    }\n",
       "\n",
       "    .dataframe tbody tr th {\n",
       "        vertical-align: top;\n",
       "    }\n",
       "\n",
       "    .dataframe thead th {\n",
       "        text-align: right;\n",
       "    }\n",
       "</style>\n",
       "<table border=\"1\" class=\"dataframe\">\n",
       "  <thead>\n",
       "    <tr style=\"text-align: right;\">\n",
       "      <th></th>\n",
       "      <th>key1</th>\n",
       "      <th>key2</th>\n",
       "      <th>d1</th>\n",
       "      <th>d2</th>\n",
       "    </tr>\n",
       "  </thead>\n",
       "  <tbody>\n",
       "    <tr>\n",
       "      <th>0</th>\n",
       "      <td>a</td>\n",
       "      <td>one</td>\n",
       "      <td>0.535339</td>\n",
       "      <td>-0.394313</td>\n",
       "    </tr>\n",
       "    <tr>\n",
       "      <th>1</th>\n",
       "      <td>a</td>\n",
       "      <td>two</td>\n",
       "      <td>1.706831</td>\n",
       "      <td>-2.246436</td>\n",
       "    </tr>\n",
       "    <tr>\n",
       "      <th>4</th>\n",
       "      <td>a</td>\n",
       "      <td>three</td>\n",
       "      <td>-0.560776</td>\n",
       "      <td>0.006069</td>\n",
       "    </tr>\n",
       "    <tr>\n",
       "      <th>5</th>\n",
       "      <td>a</td>\n",
       "      <td>one</td>\n",
       "      <td>-0.187952</td>\n",
       "      <td>-0.550603</td>\n",
       "    </tr>\n",
       "  </tbody>\n",
       "</table>\n",
       "</div>"
      ],
      "text/plain": [
       "  key1   key2        d1        d2\n",
       "0    a    one  0.535339 -0.394313\n",
       "1    a    two  1.706831 -2.246436\n",
       "4    a  three -0.560776  0.006069\n",
       "5    a    one -0.187952 -0.550603"
      ]
     },
     "execution_count": 10,
     "metadata": {},
     "output_type": "execute_result"
    }
   ],
   "source": [
    "pieces['a']"
   ]
  },
  {
   "cell_type": "code",
   "execution_count": 11,
   "metadata": {},
   "outputs": [
    {
     "data": {
      "text/html": [
       "<div>\n",
       "<style scoped>\n",
       "    .dataframe tbody tr th:only-of-type {\n",
       "        vertical-align: middle;\n",
       "    }\n",
       "\n",
       "    .dataframe tbody tr th {\n",
       "        vertical-align: top;\n",
       "    }\n",
       "\n",
       "    .dataframe thead th {\n",
       "        text-align: right;\n",
       "    }\n",
       "</style>\n",
       "<table border=\"1\" class=\"dataframe\">\n",
       "  <thead>\n",
       "    <tr style=\"text-align: right;\">\n",
       "      <th></th>\n",
       "      <th>key1</th>\n",
       "      <th>key2</th>\n",
       "      <th>d1</th>\n",
       "      <th>d2</th>\n",
       "    </tr>\n",
       "  </thead>\n",
       "  <tbody>\n",
       "    <tr>\n",
       "      <th>2</th>\n",
       "      <td>b</td>\n",
       "      <td>one</td>\n",
       "      <td>-1.213963</td>\n",
       "      <td>-0.332702</td>\n",
       "    </tr>\n",
       "    <tr>\n",
       "      <th>3</th>\n",
       "      <td>b</td>\n",
       "      <td>two</td>\n",
       "      <td>1.737554</td>\n",
       "      <td>1.105613</td>\n",
       "    </tr>\n",
       "  </tbody>\n",
       "</table>\n",
       "</div>"
      ],
      "text/plain": [
       "  key1 key2        d1        d2\n",
       "2    b  one -1.213963 -0.332702\n",
       "3    b  two  1.737554  1.105613"
      ]
     },
     "execution_count": 11,
     "metadata": {},
     "output_type": "execute_result"
    }
   ],
   "source": [
    "pieces['b']"
   ]
  },
  {
   "cell_type": "code",
   "execution_count": 12,
   "metadata": {},
   "outputs": [],
   "source": [
    "# we could group the columns of our example df here by dtype"
   ]
  },
  {
   "cell_type": "code",
   "execution_count": 13,
   "metadata": {},
   "outputs": [
    {
     "data": {
      "text/plain": [
       "key1     object\n",
       "key2     object\n",
       "d1      float64\n",
       "d2      float64\n",
       "dtype: object"
      ]
     },
     "execution_count": 13,
     "metadata": {},
     "output_type": "execute_result"
    }
   ],
   "source": [
    "df.dtypes"
   ]
  },
  {
   "cell_type": "code",
   "execution_count": 14,
   "metadata": {},
   "outputs": [],
   "source": [
    "groupByType = df.groupby(df.dtypes, axis=1)"
   ]
  },
  {
   "cell_type": "code",
   "execution_count": 15,
   "metadata": {},
   "outputs": [
    {
     "data": {
      "text/plain": [
       "<pandas.core.groupby.groupby.DataFrameGroupBy object at 0x7f2d4f978518>"
      ]
     },
     "execution_count": 15,
     "metadata": {},
     "output_type": "execute_result"
    }
   ],
   "source": [
    "groupByType"
   ]
  },
  {
   "cell_type": "code",
   "execution_count": 16,
   "metadata": {},
   "outputs": [
    {
     "name": "stdout",
     "output_type": "stream",
     "text": [
      "float64\n",
      "         d1        d2\n",
      "0  0.535339 -0.394313\n",
      "1  1.706831 -2.246436\n",
      "2 -1.213963 -0.332702\n",
      "3  1.737554  1.105613\n",
      "4 -0.560776  0.006069\n",
      "5 -0.187952 -0.550603\n",
      "object\n",
      "  key1   key2\n",
      "0    a    one\n",
      "1    a    two\n",
      "2    b    one\n",
      "3    b    two\n",
      "4    a  three\n",
      "5    a    one\n"
     ]
    }
   ],
   "source": [
    "for dtype, group in groupByType:\n",
    "    print(dtype)\n",
    "    print(group)    "
   ]
  },
  {
   "cell_type": "code",
   "execution_count": 17,
   "metadata": {},
   "outputs": [
    {
     "data": {
      "text/plain": [
       "key1\n",
       "a    0.373361\n",
       "b    0.261796\n",
       "Name: d1, dtype: float64"
      ]
     },
     "execution_count": 17,
     "metadata": {},
     "output_type": "execute_result"
    }
   ],
   "source": [
    "df.groupby('key1')['d1'].mean()"
   ]
  },
  {
   "cell_type": "code",
   "execution_count": 18,
   "metadata": {},
   "outputs": [
    {
     "data": {
      "text/html": [
       "<div>\n",
       "<style scoped>\n",
       "    .dataframe tbody tr th:only-of-type {\n",
       "        vertical-align: middle;\n",
       "    }\n",
       "\n",
       "    .dataframe tbody tr th {\n",
       "        vertical-align: top;\n",
       "    }\n",
       "\n",
       "    .dataframe thead th {\n",
       "        text-align: right;\n",
       "    }\n",
       "</style>\n",
       "<table border=\"1\" class=\"dataframe\">\n",
       "  <thead>\n",
       "    <tr style=\"text-align: right;\">\n",
       "      <th></th>\n",
       "      <th></th>\n",
       "      <th>d1</th>\n",
       "      <th>d2</th>\n",
       "    </tr>\n",
       "    <tr>\n",
       "      <th>key1</th>\n",
       "      <th>key2</th>\n",
       "      <th></th>\n",
       "      <th></th>\n",
       "    </tr>\n",
       "  </thead>\n",
       "  <tbody>\n",
       "    <tr>\n",
       "      <th rowspan=\"3\" valign=\"top\">a</th>\n",
       "      <th>one</th>\n",
       "      <td>0.173694</td>\n",
       "      <td>-0.472458</td>\n",
       "    </tr>\n",
       "    <tr>\n",
       "      <th>three</th>\n",
       "      <td>-0.560776</td>\n",
       "      <td>0.006069</td>\n",
       "    </tr>\n",
       "    <tr>\n",
       "      <th>two</th>\n",
       "      <td>1.706831</td>\n",
       "      <td>-2.246436</td>\n",
       "    </tr>\n",
       "    <tr>\n",
       "      <th rowspan=\"2\" valign=\"top\">b</th>\n",
       "      <th>one</th>\n",
       "      <td>-1.213963</td>\n",
       "      <td>-0.332702</td>\n",
       "    </tr>\n",
       "    <tr>\n",
       "      <th>two</th>\n",
       "      <td>1.737554</td>\n",
       "      <td>1.105613</td>\n",
       "    </tr>\n",
       "  </tbody>\n",
       "</table>\n",
       "</div>"
      ],
      "text/plain": [
       "                  d1        d2\n",
       "key1 key2                     \n",
       "a    one    0.173694 -0.472458\n",
       "     three -0.560776  0.006069\n",
       "     two    1.706831 -2.246436\n",
       "b    one   -1.213963 -0.332702\n",
       "     two    1.737554  1.105613"
      ]
     },
     "execution_count": 18,
     "metadata": {},
     "output_type": "execute_result"
    }
   ],
   "source": [
    "df.groupby(['key1','key2'])['d1','d2'].mean()"
   ]
  },
  {
   "cell_type": "code",
   "execution_count": 19,
   "metadata": {
    "scrolled": true
   },
   "outputs": [
    {
     "data": {
      "text/html": [
       "<div>\n",
       "<style scoped>\n",
       "    .dataframe tbody tr th:only-of-type {\n",
       "        vertical-align: middle;\n",
       "    }\n",
       "\n",
       "    .dataframe tbody tr th {\n",
       "        vertical-align: top;\n",
       "    }\n",
       "\n",
       "    .dataframe thead th {\n",
       "        text-align: right;\n",
       "    }\n",
       "</style>\n",
       "<table border=\"1\" class=\"dataframe\">\n",
       "  <thead>\n",
       "    <tr style=\"text-align: right;\">\n",
       "      <th></th>\n",
       "      <th></th>\n",
       "      <th>d1</th>\n",
       "      <th>d2</th>\n",
       "    </tr>\n",
       "    <tr>\n",
       "      <th>key1</th>\n",
       "      <th>key2</th>\n",
       "      <th></th>\n",
       "      <th></th>\n",
       "    </tr>\n",
       "  </thead>\n",
       "  <tbody>\n",
       "    <tr>\n",
       "      <th rowspan=\"3\" valign=\"top\">a</th>\n",
       "      <th>one</th>\n",
       "      <td>0.173694</td>\n",
       "      <td>-0.472458</td>\n",
       "    </tr>\n",
       "    <tr>\n",
       "      <th>three</th>\n",
       "      <td>-0.560776</td>\n",
       "      <td>0.006069</td>\n",
       "    </tr>\n",
       "    <tr>\n",
       "      <th>two</th>\n",
       "      <td>1.706831</td>\n",
       "      <td>-2.246436</td>\n",
       "    </tr>\n",
       "    <tr>\n",
       "      <th rowspan=\"2\" valign=\"top\">b</th>\n",
       "      <th>one</th>\n",
       "      <td>-1.213963</td>\n",
       "      <td>-0.332702</td>\n",
       "    </tr>\n",
       "    <tr>\n",
       "      <th>two</th>\n",
       "      <td>1.737554</td>\n",
       "      <td>1.105613</td>\n",
       "    </tr>\n",
       "  </tbody>\n",
       "</table>\n",
       "</div>"
      ],
      "text/plain": [
       "                  d1        d2\n",
       "key1 key2                     \n",
       "a    one    0.173694 -0.472458\n",
       "     three -0.560776  0.006069\n",
       "     two    1.706831 -2.246436\n",
       "b    one   -1.213963 -0.332702\n",
       "     two    1.737554  1.105613"
      ]
     },
     "execution_count": 19,
     "metadata": {},
     "output_type": "execute_result"
    }
   ],
   "source": [
    "df.groupby(['key1','key2']).mean()"
   ]
  },
  {
   "cell_type": "code",
   "execution_count": 20,
   "metadata": {},
   "outputs": [
    {
     "data": {
      "text/html": [
       "<div>\n",
       "<style scoped>\n",
       "    .dataframe tbody tr th:only-of-type {\n",
       "        vertical-align: middle;\n",
       "    }\n",
       "\n",
       "    .dataframe tbody tr th {\n",
       "        vertical-align: top;\n",
       "    }\n",
       "\n",
       "    .dataframe thead th {\n",
       "        text-align: right;\n",
       "    }\n",
       "</style>\n",
       "<table border=\"1\" class=\"dataframe\">\n",
       "  <thead>\n",
       "    <tr style=\"text-align: right;\">\n",
       "      <th></th>\n",
       "      <th>key1</th>\n",
       "      <th>key2</th>\n",
       "      <th>d1</th>\n",
       "      <th>d2</th>\n",
       "    </tr>\n",
       "  </thead>\n",
       "  <tbody>\n",
       "    <tr>\n",
       "      <th>0</th>\n",
       "      <td>a</td>\n",
       "      <td>one</td>\n",
       "      <td>0.535339</td>\n",
       "      <td>-0.394313</td>\n",
       "    </tr>\n",
       "    <tr>\n",
       "      <th>1</th>\n",
       "      <td>a</td>\n",
       "      <td>two</td>\n",
       "      <td>1.706831</td>\n",
       "      <td>-2.246436</td>\n",
       "    </tr>\n",
       "    <tr>\n",
       "      <th>2</th>\n",
       "      <td>b</td>\n",
       "      <td>one</td>\n",
       "      <td>-1.213963</td>\n",
       "      <td>-0.332702</td>\n",
       "    </tr>\n",
       "    <tr>\n",
       "      <th>3</th>\n",
       "      <td>b</td>\n",
       "      <td>two</td>\n",
       "      <td>1.737554</td>\n",
       "      <td>1.105613</td>\n",
       "    </tr>\n",
       "    <tr>\n",
       "      <th>4</th>\n",
       "      <td>a</td>\n",
       "      <td>three</td>\n",
       "      <td>-0.560776</td>\n",
       "      <td>0.006069</td>\n",
       "    </tr>\n",
       "    <tr>\n",
       "      <th>5</th>\n",
       "      <td>a</td>\n",
       "      <td>one</td>\n",
       "      <td>-0.187952</td>\n",
       "      <td>-0.550603</td>\n",
       "    </tr>\n",
       "  </tbody>\n",
       "</table>\n",
       "</div>"
      ],
      "text/plain": [
       "  key1   key2        d1        d2\n",
       "0    a    one  0.535339 -0.394313\n",
       "1    a    two  1.706831 -2.246436\n",
       "2    b    one -1.213963 -0.332702\n",
       "3    b    two  1.737554  1.105613\n",
       "4    a  three -0.560776  0.006069\n",
       "5    a    one -0.187952 -0.550603"
      ]
     },
     "execution_count": 20,
     "metadata": {},
     "output_type": "execute_result"
    }
   ],
   "source": [
    "df"
   ]
  },
  {
   "cell_type": "markdown",
   "metadata": {},
   "source": [
    "# Use loc[] to choose rows and columns by label.\n",
    " \n",
    "\n",
    "# Use iloc[] to choose rows and columns by position."
   ]
  },
  {
   "cell_type": "code",
   "execution_count": 21,
   "metadata": {},
   "outputs": [
    {
     "data": {
      "text/html": [
       "<div>\n",
       "<style scoped>\n",
       "    .dataframe tbody tr th:only-of-type {\n",
       "        vertical-align: middle;\n",
       "    }\n",
       "\n",
       "    .dataframe tbody tr th {\n",
       "        vertical-align: top;\n",
       "    }\n",
       "\n",
       "    .dataframe thead th {\n",
       "        text-align: right;\n",
       "    }\n",
       "</style>\n",
       "<table border=\"1\" class=\"dataframe\">\n",
       "  <thead>\n",
       "    <tr style=\"text-align: right;\">\n",
       "      <th></th>\n",
       "      <th>key1</th>\n",
       "      <th>key2</th>\n",
       "      <th>d1</th>\n",
       "      <th>d2</th>\n",
       "    </tr>\n",
       "  </thead>\n",
       "  <tbody>\n",
       "    <tr>\n",
       "      <th>2</th>\n",
       "      <td>b</td>\n",
       "      <td>one</td>\n",
       "      <td>-1.213963</td>\n",
       "      <td>-0.332702</td>\n",
       "    </tr>\n",
       "  </tbody>\n",
       "</table>\n",
       "</div>"
      ],
      "text/plain": [
       "  key1 key2        d1        d2\n",
       "2    b  one -1.213963 -0.332702"
      ]
     },
     "execution_count": 21,
     "metadata": {},
     "output_type": "execute_result"
    }
   ],
   "source": [
    "#2:3 can be changed to [2]-> which rows to be taken\n",
    "#[0,1,3,2] which columns to take into account\n",
    "\n",
    "df.iloc[2:3,[0,1,2,3]]"
   ]
  },
  {
   "cell_type": "code",
   "execution_count": 22,
   "metadata": {},
   "outputs": [
    {
     "data": {
      "text/html": [
       "<div>\n",
       "<style scoped>\n",
       "    .dataframe tbody tr th:only-of-type {\n",
       "        vertical-align: middle;\n",
       "    }\n",
       "\n",
       "    .dataframe tbody tr th {\n",
       "        vertical-align: top;\n",
       "    }\n",
       "\n",
       "    .dataframe thead th {\n",
       "        text-align: right;\n",
       "    }\n",
       "</style>\n",
       "<table border=\"1\" class=\"dataframe\">\n",
       "  <thead>\n",
       "    <tr style=\"text-align: right;\">\n",
       "      <th></th>\n",
       "      <th>key2</th>\n",
       "    </tr>\n",
       "  </thead>\n",
       "  <tbody>\n",
       "    <tr>\n",
       "      <th>0</th>\n",
       "      <td>one</td>\n",
       "    </tr>\n",
       "    <tr>\n",
       "      <th>1</th>\n",
       "      <td>two</td>\n",
       "    </tr>\n",
       "  </tbody>\n",
       "</table>\n",
       "</div>"
      ],
      "text/plain": [
       "  key2\n",
       "0  one\n",
       "1  two"
      ]
     },
     "execution_count": 22,
     "metadata": {},
     "output_type": "execute_result"
    }
   ],
   "source": [
    "df.iloc[0:2,1:2]"
   ]
  },
  {
   "cell_type": "code",
   "execution_count": 23,
   "metadata": {
    "scrolled": false
   },
   "outputs": [
    {
     "data": {
      "text/html": [
       "<div>\n",
       "<style scoped>\n",
       "    .dataframe tbody tr th:only-of-type {\n",
       "        vertical-align: middle;\n",
       "    }\n",
       "\n",
       "    .dataframe tbody tr th {\n",
       "        vertical-align: top;\n",
       "    }\n",
       "\n",
       "    .dataframe thead th {\n",
       "        text-align: right;\n",
       "    }\n",
       "</style>\n",
       "<table border=\"1\" class=\"dataframe\">\n",
       "  <thead>\n",
       "    <tr style=\"text-align: right;\">\n",
       "      <th></th>\n",
       "      <th>key2</th>\n",
       "      <th>d1</th>\n",
       "    </tr>\n",
       "  </thead>\n",
       "  <tbody>\n",
       "    <tr>\n",
       "      <th>0</th>\n",
       "      <td>one</td>\n",
       "      <td>0.535339</td>\n",
       "    </tr>\n",
       "    <tr>\n",
       "      <th>1</th>\n",
       "      <td>two</td>\n",
       "      <td>1.706831</td>\n",
       "    </tr>\n",
       "  </tbody>\n",
       "</table>\n",
       "</div>"
      ],
      "text/plain": [
       "  key2        d1\n",
       "0  one  0.535339\n",
       "1  two  1.706831"
      ]
     },
     "execution_count": 23,
     "metadata": {},
     "output_type": "execute_result"
    }
   ],
   "source": [
    "df.iloc[0:2,[1,2]]"
   ]
  },
  {
   "cell_type": "code",
   "execution_count": 24,
   "metadata": {},
   "outputs": [
    {
     "data": {
      "text/html": [
       "<div>\n",
       "<style scoped>\n",
       "    .dataframe tbody tr th:only-of-type {\n",
       "        vertical-align: middle;\n",
       "    }\n",
       "\n",
       "    .dataframe tbody tr th {\n",
       "        vertical-align: top;\n",
       "    }\n",
       "\n",
       "    .dataframe thead th {\n",
       "        text-align: right;\n",
       "    }\n",
       "</style>\n",
       "<table border=\"1\" class=\"dataframe\">\n",
       "  <thead>\n",
       "    <tr style=\"text-align: right;\">\n",
       "      <th></th>\n",
       "      <th>key1</th>\n",
       "      <th>key2</th>\n",
       "      <th>d1</th>\n",
       "      <th>d2</th>\n",
       "    </tr>\n",
       "  </thead>\n",
       "  <tbody>\n",
       "    <tr>\n",
       "      <th>0</th>\n",
       "      <td>a</td>\n",
       "      <td>one</td>\n",
       "      <td>0.535339</td>\n",
       "      <td>-0.394313</td>\n",
       "    </tr>\n",
       "    <tr>\n",
       "      <th>1</th>\n",
       "      <td>a</td>\n",
       "      <td>two</td>\n",
       "      <td>1.706831</td>\n",
       "      <td>-2.246436</td>\n",
       "    </tr>\n",
       "    <tr>\n",
       "      <th>2</th>\n",
       "      <td>b</td>\n",
       "      <td>one</td>\n",
       "      <td>-1.213963</td>\n",
       "      <td>-0.332702</td>\n",
       "    </tr>\n",
       "    <tr>\n",
       "      <th>3</th>\n",
       "      <td>b</td>\n",
       "      <td>two</td>\n",
       "      <td>1.737554</td>\n",
       "      <td>1.105613</td>\n",
       "    </tr>\n",
       "    <tr>\n",
       "      <th>4</th>\n",
       "      <td>a</td>\n",
       "      <td>three</td>\n",
       "      <td>-0.560776</td>\n",
       "      <td>0.006069</td>\n",
       "    </tr>\n",
       "    <tr>\n",
       "      <th>5</th>\n",
       "      <td>a</td>\n",
       "      <td>one</td>\n",
       "      <td>-0.187952</td>\n",
       "      <td>-0.550603</td>\n",
       "    </tr>\n",
       "  </tbody>\n",
       "</table>\n",
       "</div>"
      ],
      "text/plain": [
       "  key1   key2        d1        d2\n",
       "0    a    one  0.535339 -0.394313\n",
       "1    a    two  1.706831 -2.246436\n",
       "2    b    one -1.213963 -0.332702\n",
       "3    b    two  1.737554  1.105613\n",
       "4    a  three -0.560776  0.006069\n",
       "5    a    one -0.187952 -0.550603"
      ]
     },
     "execution_count": 24,
     "metadata": {},
     "output_type": "execute_result"
    }
   ],
   "source": [
    "df"
   ]
  },
  {
   "cell_type": "code",
   "execution_count": 25,
   "metadata": {},
   "outputs": [
    {
     "data": {
      "text/html": [
       "<div>\n",
       "<style scoped>\n",
       "    .dataframe tbody tr th:only-of-type {\n",
       "        vertical-align: middle;\n",
       "    }\n",
       "\n",
       "    .dataframe tbody tr th {\n",
       "        vertical-align: top;\n",
       "    }\n",
       "\n",
       "    .dataframe thead th {\n",
       "        text-align: right;\n",
       "    }\n",
       "</style>\n",
       "<table border=\"1\" class=\"dataframe\">\n",
       "  <thead>\n",
       "    <tr style=\"text-align: right;\">\n",
       "      <th></th>\n",
       "      <th>key2</th>\n",
       "      <th>d1</th>\n",
       "      <th>d2</th>\n",
       "    </tr>\n",
       "    <tr>\n",
       "      <th>key1</th>\n",
       "      <th></th>\n",
       "      <th></th>\n",
       "      <th></th>\n",
       "    </tr>\n",
       "  </thead>\n",
       "  <tbody>\n",
       "    <tr>\n",
       "      <th>a</th>\n",
       "      <td>one</td>\n",
       "      <td>0.535339</td>\n",
       "      <td>-0.394313</td>\n",
       "    </tr>\n",
       "    <tr>\n",
       "      <th>a</th>\n",
       "      <td>two</td>\n",
       "      <td>1.706831</td>\n",
       "      <td>-2.246436</td>\n",
       "    </tr>\n",
       "    <tr>\n",
       "      <th>b</th>\n",
       "      <td>one</td>\n",
       "      <td>-1.213963</td>\n",
       "      <td>-0.332702</td>\n",
       "    </tr>\n",
       "    <tr>\n",
       "      <th>b</th>\n",
       "      <td>two</td>\n",
       "      <td>1.737554</td>\n",
       "      <td>1.105613</td>\n",
       "    </tr>\n",
       "    <tr>\n",
       "      <th>a</th>\n",
       "      <td>three</td>\n",
       "      <td>-0.560776</td>\n",
       "      <td>0.006069</td>\n",
       "    </tr>\n",
       "    <tr>\n",
       "      <th>a</th>\n",
       "      <td>one</td>\n",
       "      <td>-0.187952</td>\n",
       "      <td>-0.550603</td>\n",
       "    </tr>\n",
       "  </tbody>\n",
       "</table>\n",
       "</div>"
      ],
      "text/plain": [
       "       key2        d1        d2\n",
       "key1                           \n",
       "a       one  0.535339 -0.394313\n",
       "a       two  1.706831 -2.246436\n",
       "b       one -1.213963 -0.332702\n",
       "b       two  1.737554  1.105613\n",
       "a     three -0.560776  0.006069\n",
       "a       one -0.187952 -0.550603"
      ]
     },
     "execution_count": 25,
     "metadata": {},
     "output_type": "execute_result"
    }
   ],
   "source": [
    "df.set_index('key1', inplace=True)\n",
    "df"
   ]
  },
  {
   "cell_type": "code",
   "execution_count": 26,
   "metadata": {},
   "outputs": [
    {
     "data": {
      "text/plain": [
       "key1\n",
       "a    0.535339\n",
       "a    1.706831\n",
       "b   -1.213963\n",
       "b    1.737554\n",
       "a   -0.560776\n",
       "a   -0.187952\n",
       "Name: d1, dtype: float64"
      ]
     },
     "execution_count": 26,
     "metadata": {},
     "output_type": "execute_result"
    }
   ],
   "source": [
    "df.loc[:,'d1']"
   ]
  },
  {
   "cell_type": "code",
   "execution_count": 27,
   "metadata": {},
   "outputs": [
    {
     "data": {
      "text/html": [
       "<div>\n",
       "<style scoped>\n",
       "    .dataframe tbody tr th:only-of-type {\n",
       "        vertical-align: middle;\n",
       "    }\n",
       "\n",
       "    .dataframe tbody tr th {\n",
       "        vertical-align: top;\n",
       "    }\n",
       "\n",
       "    .dataframe thead th {\n",
       "        text-align: right;\n",
       "    }\n",
       "</style>\n",
       "<table border=\"1\" class=\"dataframe\">\n",
       "  <thead>\n",
       "    <tr style=\"text-align: right;\">\n",
       "      <th></th>\n",
       "      <th>key2</th>\n",
       "      <th>d1</th>\n",
       "      <th>d2</th>\n",
       "    </tr>\n",
       "    <tr>\n",
       "      <th>key1</th>\n",
       "      <th></th>\n",
       "      <th></th>\n",
       "      <th></th>\n",
       "    </tr>\n",
       "  </thead>\n",
       "  <tbody>\n",
       "    <tr>\n",
       "      <th>b</th>\n",
       "      <td>one</td>\n",
       "      <td>-1.213963</td>\n",
       "      <td>-0.332702</td>\n",
       "    </tr>\n",
       "    <tr>\n",
       "      <th>b</th>\n",
       "      <td>two</td>\n",
       "      <td>1.737554</td>\n",
       "      <td>1.105613</td>\n",
       "    </tr>\n",
       "  </tbody>\n",
       "</table>\n",
       "</div>"
      ],
      "text/plain": [
       "     key2        d1        d2\n",
       "key1                         \n",
       "b     one -1.213963 -0.332702\n",
       "b     two  1.737554  1.105613"
      ]
     },
     "execution_count": 27,
     "metadata": {},
     "output_type": "execute_result"
    }
   ],
   "source": [
    "df.loc['b',:]"
   ]
  },
  {
   "cell_type": "code",
   "execution_count": 28,
   "metadata": {
    "scrolled": true
   },
   "outputs": [
    {
     "data": {
      "text/plain": [
       "key1\n",
       "b   -1.213963\n",
       "b    1.737554\n",
       "Name: d1, dtype: float64"
      ]
     },
     "execution_count": 28,
     "metadata": {},
     "output_type": "execute_result"
    }
   ],
   "source": [
    "df.loc['b','d1']"
   ]
  },
  {
   "cell_type": "code",
   "execution_count": 29,
   "metadata": {},
   "outputs": [
    {
     "data": {
      "text/html": [
       "<div>\n",
       "<style scoped>\n",
       "    .dataframe tbody tr th:only-of-type {\n",
       "        vertical-align: middle;\n",
       "    }\n",
       "\n",
       "    .dataframe tbody tr th {\n",
       "        vertical-align: top;\n",
       "    }\n",
       "\n",
       "    .dataframe thead th {\n",
       "        text-align: right;\n",
       "    }\n",
       "</style>\n",
       "<table border=\"1\" class=\"dataframe\">\n",
       "  <thead>\n",
       "    <tr style=\"text-align: right;\">\n",
       "      <th></th>\n",
       "      <th>d1</th>\n",
       "      <th>key2</th>\n",
       "    </tr>\n",
       "    <tr>\n",
       "      <th>key1</th>\n",
       "      <th></th>\n",
       "      <th></th>\n",
       "    </tr>\n",
       "  </thead>\n",
       "  <tbody>\n",
       "    <tr>\n",
       "      <th>a</th>\n",
       "      <td>0.535339</td>\n",
       "      <td>one</td>\n",
       "    </tr>\n",
       "    <tr>\n",
       "      <th>a</th>\n",
       "      <td>1.706831</td>\n",
       "      <td>two</td>\n",
       "    </tr>\n",
       "    <tr>\n",
       "      <th>a</th>\n",
       "      <td>-0.560776</td>\n",
       "      <td>three</td>\n",
       "    </tr>\n",
       "    <tr>\n",
       "      <th>a</th>\n",
       "      <td>-0.187952</td>\n",
       "      <td>one</td>\n",
       "    </tr>\n",
       "    <tr>\n",
       "      <th>b</th>\n",
       "      <td>-1.213963</td>\n",
       "      <td>one</td>\n",
       "    </tr>\n",
       "    <tr>\n",
       "      <th>b</th>\n",
       "      <td>1.737554</td>\n",
       "      <td>two</td>\n",
       "    </tr>\n",
       "  </tbody>\n",
       "</table>\n",
       "</div>"
      ],
      "text/plain": [
       "            d1   key2\n",
       "key1                 \n",
       "a     0.535339    one\n",
       "a     1.706831    two\n",
       "a    -0.560776  three\n",
       "a    -0.187952    one\n",
       "b    -1.213963    one\n",
       "b     1.737554    two"
      ]
     },
     "execution_count": 29,
     "metadata": {},
     "output_type": "execute_result"
    }
   ],
   "source": [
    "df.loc[['a','b'],['d1','key2']]"
   ]
  },
  {
   "cell_type": "code",
   "execution_count": 30,
   "metadata": {},
   "outputs": [
    {
     "data": {
      "text/html": [
       "<div>\n",
       "<style scoped>\n",
       "    .dataframe tbody tr th:only-of-type {\n",
       "        vertical-align: middle;\n",
       "    }\n",
       "\n",
       "    .dataframe tbody tr th {\n",
       "        vertical-align: top;\n",
       "    }\n",
       "\n",
       "    .dataframe thead th {\n",
       "        text-align: right;\n",
       "    }\n",
       "</style>\n",
       "<table border=\"1\" class=\"dataframe\">\n",
       "  <thead>\n",
       "    <tr style=\"text-align: right;\">\n",
       "      <th></th>\n",
       "      <th>key2</th>\n",
       "      <th>d1</th>\n",
       "      <th>d2</th>\n",
       "    </tr>\n",
       "    <tr>\n",
       "      <th>key1</th>\n",
       "      <th></th>\n",
       "      <th></th>\n",
       "      <th></th>\n",
       "    </tr>\n",
       "  </thead>\n",
       "  <tbody>\n",
       "    <tr>\n",
       "      <th>a</th>\n",
       "      <td>one</td>\n",
       "      <td>0.535339</td>\n",
       "      <td>-0.394313</td>\n",
       "    </tr>\n",
       "    <tr>\n",
       "      <th>a</th>\n",
       "      <td>two</td>\n",
       "      <td>1.706831</td>\n",
       "      <td>-2.246436</td>\n",
       "    </tr>\n",
       "    <tr>\n",
       "      <th>b</th>\n",
       "      <td>two</td>\n",
       "      <td>1.737554</td>\n",
       "      <td>1.105613</td>\n",
       "    </tr>\n",
       "    <tr>\n",
       "      <th>a</th>\n",
       "      <td>three</td>\n",
       "      <td>-0.560776</td>\n",
       "      <td>0.006069</td>\n",
       "    </tr>\n",
       "    <tr>\n",
       "      <th>a</th>\n",
       "      <td>one</td>\n",
       "      <td>-0.187952</td>\n",
       "      <td>-0.550603</td>\n",
       "    </tr>\n",
       "  </tbody>\n",
       "</table>\n",
       "</div>"
      ],
      "text/plain": [
       "       key2        d1        d2\n",
       "key1                           \n",
       "a       one  0.535339 -0.394313\n",
       "a       two  1.706831 -2.246436\n",
       "b       two  1.737554  1.105613\n",
       "a     three -0.560776  0.006069\n",
       "a       one -0.187952 -0.550603"
      ]
     },
     "execution_count": 30,
     "metadata": {},
     "output_type": "execute_result"
    }
   ],
   "source": [
    "# select rows based on columnn value\n",
    "df.loc[df.loc[:,'d1']>-1.0,:]"
   ]
  },
  {
   "cell_type": "code",
   "execution_count": 31,
   "metadata": {},
   "outputs": [],
   "source": [
    "#Grouping with Dicts and Series"
   ]
  },
  {
   "cell_type": "code",
   "execution_count": 32,
   "metadata": {},
   "outputs": [],
   "source": [
    "people = pd.DataFrame(np.random.randn(5,5),\n",
    "                     columns=['a','b','c','d','e'],\n",
    "                     index=['J','B','K','L','T'])"
   ]
  },
  {
   "cell_type": "code",
   "execution_count": 33,
   "metadata": {},
   "outputs": [
    {
     "data": {
      "text/html": [
       "<div>\n",
       "<style scoped>\n",
       "    .dataframe tbody tr th:only-of-type {\n",
       "        vertical-align: middle;\n",
       "    }\n",
       "\n",
       "    .dataframe tbody tr th {\n",
       "        vertical-align: top;\n",
       "    }\n",
       "\n",
       "    .dataframe thead th {\n",
       "        text-align: right;\n",
       "    }\n",
       "</style>\n",
       "<table border=\"1\" class=\"dataframe\">\n",
       "  <thead>\n",
       "    <tr style=\"text-align: right;\">\n",
       "      <th></th>\n",
       "      <th>a</th>\n",
       "      <th>b</th>\n",
       "      <th>c</th>\n",
       "      <th>d</th>\n",
       "      <th>e</th>\n",
       "    </tr>\n",
       "  </thead>\n",
       "  <tbody>\n",
       "    <tr>\n",
       "      <th>J</th>\n",
       "      <td>0.761334</td>\n",
       "      <td>0.812820</td>\n",
       "      <td>-1.200734</td>\n",
       "      <td>1.614340</td>\n",
       "      <td>0.757156</td>\n",
       "    </tr>\n",
       "    <tr>\n",
       "      <th>B</th>\n",
       "      <td>-0.687761</td>\n",
       "      <td>-0.439377</td>\n",
       "      <td>-0.302208</td>\n",
       "      <td>0.978116</td>\n",
       "      <td>-2.601086</td>\n",
       "    </tr>\n",
       "    <tr>\n",
       "      <th>K</th>\n",
       "      <td>-0.068077</td>\n",
       "      <td>-0.379644</td>\n",
       "      <td>1.112399</td>\n",
       "      <td>0.112342</td>\n",
       "      <td>0.358535</td>\n",
       "    </tr>\n",
       "    <tr>\n",
       "      <th>L</th>\n",
       "      <td>-1.566816</td>\n",
       "      <td>-0.953429</td>\n",
       "      <td>0.179025</td>\n",
       "      <td>-0.701998</td>\n",
       "      <td>1.381238</td>\n",
       "    </tr>\n",
       "    <tr>\n",
       "      <th>T</th>\n",
       "      <td>0.214581</td>\n",
       "      <td>-2.069159</td>\n",
       "      <td>-1.022803</td>\n",
       "      <td>-0.832108</td>\n",
       "      <td>-1.067162</td>\n",
       "    </tr>\n",
       "  </tbody>\n",
       "</table>\n",
       "</div>"
      ],
      "text/plain": [
       "          a         b         c         d         e\n",
       "J  0.761334  0.812820 -1.200734  1.614340  0.757156\n",
       "B -0.687761 -0.439377 -0.302208  0.978116 -2.601086\n",
       "K -0.068077 -0.379644  1.112399  0.112342  0.358535\n",
       "L -1.566816 -0.953429  0.179025 -0.701998  1.381238\n",
       "T  0.214581 -2.069159 -1.022803 -0.832108 -1.067162"
      ]
     },
     "execution_count": 33,
     "metadata": {},
     "output_type": "execute_result"
    }
   ],
   "source": [
    "people"
   ]
  },
  {
   "cell_type": "code",
   "execution_count": 34,
   "metadata": {},
   "outputs": [],
   "source": [
    "people.iloc[2:3,[1,2]]=np.nan"
   ]
  },
  {
   "cell_type": "code",
   "execution_count": 35,
   "metadata": {},
   "outputs": [
    {
     "data": {
      "text/html": [
       "<div>\n",
       "<style scoped>\n",
       "    .dataframe tbody tr th:only-of-type {\n",
       "        vertical-align: middle;\n",
       "    }\n",
       "\n",
       "    .dataframe tbody tr th {\n",
       "        vertical-align: top;\n",
       "    }\n",
       "\n",
       "    .dataframe thead th {\n",
       "        text-align: right;\n",
       "    }\n",
       "</style>\n",
       "<table border=\"1\" class=\"dataframe\">\n",
       "  <thead>\n",
       "    <tr style=\"text-align: right;\">\n",
       "      <th></th>\n",
       "      <th>a</th>\n",
       "      <th>b</th>\n",
       "      <th>c</th>\n",
       "      <th>d</th>\n",
       "      <th>e</th>\n",
       "    </tr>\n",
       "  </thead>\n",
       "  <tbody>\n",
       "    <tr>\n",
       "      <th>J</th>\n",
       "      <td>0.761334</td>\n",
       "      <td>0.812820</td>\n",
       "      <td>-1.200734</td>\n",
       "      <td>1.614340</td>\n",
       "      <td>0.757156</td>\n",
       "    </tr>\n",
       "    <tr>\n",
       "      <th>B</th>\n",
       "      <td>-0.687761</td>\n",
       "      <td>-0.439377</td>\n",
       "      <td>-0.302208</td>\n",
       "      <td>0.978116</td>\n",
       "      <td>-2.601086</td>\n",
       "    </tr>\n",
       "    <tr>\n",
       "      <th>K</th>\n",
       "      <td>-0.068077</td>\n",
       "      <td>NaN</td>\n",
       "      <td>NaN</td>\n",
       "      <td>0.112342</td>\n",
       "      <td>0.358535</td>\n",
       "    </tr>\n",
       "    <tr>\n",
       "      <th>L</th>\n",
       "      <td>-1.566816</td>\n",
       "      <td>-0.953429</td>\n",
       "      <td>0.179025</td>\n",
       "      <td>-0.701998</td>\n",
       "      <td>1.381238</td>\n",
       "    </tr>\n",
       "    <tr>\n",
       "      <th>T</th>\n",
       "      <td>0.214581</td>\n",
       "      <td>-2.069159</td>\n",
       "      <td>-1.022803</td>\n",
       "      <td>-0.832108</td>\n",
       "      <td>-1.067162</td>\n",
       "    </tr>\n",
       "  </tbody>\n",
       "</table>\n",
       "</div>"
      ],
      "text/plain": [
       "          a         b         c         d         e\n",
       "J  0.761334  0.812820 -1.200734  1.614340  0.757156\n",
       "B -0.687761 -0.439377 -0.302208  0.978116 -2.601086\n",
       "K -0.068077       NaN       NaN  0.112342  0.358535\n",
       "L -1.566816 -0.953429  0.179025 -0.701998  1.381238\n",
       "T  0.214581 -2.069159 -1.022803 -0.832108 -1.067162"
      ]
     },
     "execution_count": 35,
     "metadata": {},
     "output_type": "execute_result"
    }
   ],
   "source": [
    "people"
   ]
  },
  {
   "cell_type": "code",
   "execution_count": 36,
   "metadata": {},
   "outputs": [],
   "source": [
    "# Now, suppose I have a group correspondence for the columns and want to sum\n",
    "# together the columns by group"
   ]
  },
  {
   "cell_type": "code",
   "execution_count": 37,
   "metadata": {},
   "outputs": [],
   "source": [
    "mapping={'a':'red','b':'green','c':'blue','d':'yellow','e':'orange','f':'maroon'}"
   ]
  },
  {
   "cell_type": "code",
   "execution_count": 38,
   "metadata": {},
   "outputs": [
    {
     "data": {
      "text/plain": [
       "{'a': 'red',\n",
       " 'b': 'green',\n",
       " 'c': 'blue',\n",
       " 'd': 'yellow',\n",
       " 'e': 'orange',\n",
       " 'f': 'maroon'}"
      ]
     },
     "execution_count": 38,
     "metadata": {},
     "output_type": "execute_result"
    }
   ],
   "source": [
    "mapping"
   ]
  },
  {
   "cell_type": "code",
   "execution_count": 39,
   "metadata": {},
   "outputs": [],
   "source": [
    "# you could construct an array from this dict to pass to groupby , but instead we\n",
    "# can just pass the dict (I included the key 'f' to highlight that unused grouping keys\n",
    "# are OK)\n",
    "byColumn = people.groupby(mapping, axis=1)\n"
   ]
  },
  {
   "cell_type": "code",
   "execution_count": 40,
   "metadata": {},
   "outputs": [
    {
     "data": {
      "text/html": [
       "<div>\n",
       "<style scoped>\n",
       "    .dataframe tbody tr th:only-of-type {\n",
       "        vertical-align: middle;\n",
       "    }\n",
       "\n",
       "    .dataframe tbody tr th {\n",
       "        vertical-align: top;\n",
       "    }\n",
       "\n",
       "    .dataframe thead th {\n",
       "        text-align: right;\n",
       "    }\n",
       "</style>\n",
       "<table border=\"1\" class=\"dataframe\">\n",
       "  <thead>\n",
       "    <tr style=\"text-align: right;\">\n",
       "      <th></th>\n",
       "      <th>blue</th>\n",
       "      <th>green</th>\n",
       "      <th>orange</th>\n",
       "      <th>red</th>\n",
       "      <th>yellow</th>\n",
       "    </tr>\n",
       "  </thead>\n",
       "  <tbody>\n",
       "    <tr>\n",
       "      <th>J</th>\n",
       "      <td>-1.200734</td>\n",
       "      <td>0.812820</td>\n",
       "      <td>0.757156</td>\n",
       "      <td>0.761334</td>\n",
       "      <td>1.614340</td>\n",
       "    </tr>\n",
       "    <tr>\n",
       "      <th>B</th>\n",
       "      <td>-0.302208</td>\n",
       "      <td>-0.439377</td>\n",
       "      <td>-2.601086</td>\n",
       "      <td>-0.687761</td>\n",
       "      <td>0.978116</td>\n",
       "    </tr>\n",
       "    <tr>\n",
       "      <th>K</th>\n",
       "      <td>0.000000</td>\n",
       "      <td>0.000000</td>\n",
       "      <td>0.358535</td>\n",
       "      <td>-0.068077</td>\n",
       "      <td>0.112342</td>\n",
       "    </tr>\n",
       "    <tr>\n",
       "      <th>L</th>\n",
       "      <td>0.179025</td>\n",
       "      <td>-0.953429</td>\n",
       "      <td>1.381238</td>\n",
       "      <td>-1.566816</td>\n",
       "      <td>-0.701998</td>\n",
       "    </tr>\n",
       "    <tr>\n",
       "      <th>T</th>\n",
       "      <td>-1.022803</td>\n",
       "      <td>-2.069159</td>\n",
       "      <td>-1.067162</td>\n",
       "      <td>0.214581</td>\n",
       "      <td>-0.832108</td>\n",
       "    </tr>\n",
       "  </tbody>\n",
       "</table>\n",
       "</div>"
      ],
      "text/plain": [
       "       blue     green    orange       red    yellow\n",
       "J -1.200734  0.812820  0.757156  0.761334  1.614340\n",
       "B -0.302208 -0.439377 -2.601086 -0.687761  0.978116\n",
       "K  0.000000  0.000000  0.358535 -0.068077  0.112342\n",
       "L  0.179025 -0.953429  1.381238 -1.566816 -0.701998\n",
       "T -1.022803 -2.069159 -1.067162  0.214581 -0.832108"
      ]
     },
     "execution_count": 40,
     "metadata": {},
     "output_type": "execute_result"
    }
   ],
   "source": [
    "byColumn.sum()"
   ]
  },
  {
   "cell_type": "code",
   "execution_count": 41,
   "metadata": {},
   "outputs": [],
   "source": [
    "map_series = pd.Series(mapping)"
   ]
  },
  {
   "cell_type": "code",
   "execution_count": 42,
   "metadata": {},
   "outputs": [
    {
     "data": {
      "text/plain": [
       "a       red\n",
       "b     green\n",
       "c      blue\n",
       "d    yellow\n",
       "e    orange\n",
       "f    maroon\n",
       "dtype: object"
      ]
     },
     "execution_count": 42,
     "metadata": {},
     "output_type": "execute_result"
    }
   ],
   "source": [
    "map_series"
   ]
  },
  {
   "cell_type": "code",
   "execution_count": 43,
   "metadata": {},
   "outputs": [],
   "source": [
    "bySeries = people.groupby(map_series, axis=1)"
   ]
  },
  {
   "cell_type": "code",
   "execution_count": 44,
   "metadata": {},
   "outputs": [
    {
     "data": {
      "text/html": [
       "<div>\n",
       "<style scoped>\n",
       "    .dataframe tbody tr th:only-of-type {\n",
       "        vertical-align: middle;\n",
       "    }\n",
       "\n",
       "    .dataframe tbody tr th {\n",
       "        vertical-align: top;\n",
       "    }\n",
       "\n",
       "    .dataframe thead th {\n",
       "        text-align: right;\n",
       "    }\n",
       "</style>\n",
       "<table border=\"1\" class=\"dataframe\">\n",
       "  <thead>\n",
       "    <tr style=\"text-align: right;\">\n",
       "      <th></th>\n",
       "      <th>blue</th>\n",
       "      <th>green</th>\n",
       "      <th>orange</th>\n",
       "      <th>red</th>\n",
       "      <th>yellow</th>\n",
       "    </tr>\n",
       "  </thead>\n",
       "  <tbody>\n",
       "    <tr>\n",
       "      <th>J</th>\n",
       "      <td>-1.200734</td>\n",
       "      <td>0.812820</td>\n",
       "      <td>0.757156</td>\n",
       "      <td>0.761334</td>\n",
       "      <td>1.614340</td>\n",
       "    </tr>\n",
       "    <tr>\n",
       "      <th>B</th>\n",
       "      <td>-0.302208</td>\n",
       "      <td>-0.439377</td>\n",
       "      <td>-2.601086</td>\n",
       "      <td>-0.687761</td>\n",
       "      <td>0.978116</td>\n",
       "    </tr>\n",
       "    <tr>\n",
       "      <th>K</th>\n",
       "      <td>0.000000</td>\n",
       "      <td>0.000000</td>\n",
       "      <td>0.358535</td>\n",
       "      <td>-0.068077</td>\n",
       "      <td>0.112342</td>\n",
       "    </tr>\n",
       "    <tr>\n",
       "      <th>L</th>\n",
       "      <td>0.179025</td>\n",
       "      <td>-0.953429</td>\n",
       "      <td>1.381238</td>\n",
       "      <td>-1.566816</td>\n",
       "      <td>-0.701998</td>\n",
       "    </tr>\n",
       "    <tr>\n",
       "      <th>T</th>\n",
       "      <td>-1.022803</td>\n",
       "      <td>-2.069159</td>\n",
       "      <td>-1.067162</td>\n",
       "      <td>0.214581</td>\n",
       "      <td>-0.832108</td>\n",
       "    </tr>\n",
       "  </tbody>\n",
       "</table>\n",
       "</div>"
      ],
      "text/plain": [
       "       blue     green    orange       red    yellow\n",
       "J -1.200734  0.812820  0.757156  0.761334  1.614340\n",
       "B -0.302208 -0.439377 -2.601086 -0.687761  0.978116\n",
       "K  0.000000  0.000000  0.358535 -0.068077  0.112342\n",
       "L  0.179025 -0.953429  1.381238 -1.566816 -0.701998\n",
       "T -1.022803 -2.069159 -1.067162  0.214581 -0.832108"
      ]
     },
     "execution_count": 44,
     "metadata": {},
     "output_type": "execute_result"
    }
   ],
   "source": [
    "bySeries.sum()"
   ]
  },
  {
   "cell_type": "code",
   "execution_count": 45,
   "metadata": {},
   "outputs": [],
   "source": [
    "# Practice\n",
    "# selecting subsets from dataframe\n",
    "dataFrames = pd.DataFrame({\n",
    "    'state': ['NY','TX','FL','AL','AK','TX','TX'],\n",
    "    'color': ['blue','green','red','white','grey','yellow','orange'],\n",
    "    'food': ['Steak','Dal','Lamb','Pork','Beef','Burger','Pasta'],\n",
    "    'age':[30,21,12,36,45,90,54],\n",
    "    'height':[165,170,185,140,190,163,178],\n",
    "    'score':[5.5,4.3,1.2,9.6,8.3,6.5,7.3]\n",
    "}, index = ['Jane','Niko','Aaron','Penelope','Dean','Cristina','Cornella'])"
   ]
  },
  {
   "cell_type": "code",
   "execution_count": 46,
   "metadata": {},
   "outputs": [
    {
     "data": {
      "text/html": [
       "<div>\n",
       "<style scoped>\n",
       "    .dataframe tbody tr th:only-of-type {\n",
       "        vertical-align: middle;\n",
       "    }\n",
       "\n",
       "    .dataframe tbody tr th {\n",
       "        vertical-align: top;\n",
       "    }\n",
       "\n",
       "    .dataframe thead th {\n",
       "        text-align: right;\n",
       "    }\n",
       "</style>\n",
       "<table border=\"1\" class=\"dataframe\">\n",
       "  <thead>\n",
       "    <tr style=\"text-align: right;\">\n",
       "      <th></th>\n",
       "      <th>state</th>\n",
       "      <th>color</th>\n",
       "      <th>food</th>\n",
       "      <th>age</th>\n",
       "      <th>height</th>\n",
       "      <th>score</th>\n",
       "    </tr>\n",
       "  </thead>\n",
       "  <tbody>\n",
       "    <tr>\n",
       "      <th>Jane</th>\n",
       "      <td>NY</td>\n",
       "      <td>blue</td>\n",
       "      <td>Steak</td>\n",
       "      <td>30</td>\n",
       "      <td>165</td>\n",
       "      <td>5.5</td>\n",
       "    </tr>\n",
       "    <tr>\n",
       "      <th>Niko</th>\n",
       "      <td>TX</td>\n",
       "      <td>green</td>\n",
       "      <td>Dal</td>\n",
       "      <td>21</td>\n",
       "      <td>170</td>\n",
       "      <td>4.3</td>\n",
       "    </tr>\n",
       "    <tr>\n",
       "      <th>Aaron</th>\n",
       "      <td>FL</td>\n",
       "      <td>red</td>\n",
       "      <td>Lamb</td>\n",
       "      <td>12</td>\n",
       "      <td>185</td>\n",
       "      <td>1.2</td>\n",
       "    </tr>\n",
       "    <tr>\n",
       "      <th>Penelope</th>\n",
       "      <td>AL</td>\n",
       "      <td>white</td>\n",
       "      <td>Pork</td>\n",
       "      <td>36</td>\n",
       "      <td>140</td>\n",
       "      <td>9.6</td>\n",
       "    </tr>\n",
       "    <tr>\n",
       "      <th>Dean</th>\n",
       "      <td>AK</td>\n",
       "      <td>grey</td>\n",
       "      <td>Beef</td>\n",
       "      <td>45</td>\n",
       "      <td>190</td>\n",
       "      <td>8.3</td>\n",
       "    </tr>\n",
       "    <tr>\n",
       "      <th>Cristina</th>\n",
       "      <td>TX</td>\n",
       "      <td>yellow</td>\n",
       "      <td>Burger</td>\n",
       "      <td>90</td>\n",
       "      <td>163</td>\n",
       "      <td>6.5</td>\n",
       "    </tr>\n",
       "    <tr>\n",
       "      <th>Cornella</th>\n",
       "      <td>TX</td>\n",
       "      <td>orange</td>\n",
       "      <td>Pasta</td>\n",
       "      <td>54</td>\n",
       "      <td>178</td>\n",
       "      <td>7.3</td>\n",
       "    </tr>\n",
       "  </tbody>\n",
       "</table>\n",
       "</div>"
      ],
      "text/plain": [
       "         state   color    food  age  height  score\n",
       "Jane        NY    blue   Steak   30     165    5.5\n",
       "Niko        TX   green     Dal   21     170    4.3\n",
       "Aaron       FL     red    Lamb   12     185    1.2\n",
       "Penelope    AL   white    Pork   36     140    9.6\n",
       "Dean        AK    grey    Beef   45     190    8.3\n",
       "Cristina    TX  yellow  Burger   90     163    6.5\n",
       "Cornella    TX  orange   Pasta   54     178    7.3"
      ]
     },
     "execution_count": 46,
     "metadata": {},
     "output_type": "execute_result"
    }
   ],
   "source": [
    "dataFrames"
   ]
  },
  {
   "cell_type": "code",
   "execution_count": 47,
   "metadata": {},
   "outputs": [
    {
     "data": {
      "text/html": [
       "<div>\n",
       "<style scoped>\n",
       "    .dataframe tbody tr th:only-of-type {\n",
       "        vertical-align: middle;\n",
       "    }\n",
       "\n",
       "    .dataframe tbody tr th {\n",
       "        vertical-align: top;\n",
       "    }\n",
       "\n",
       "    .dataframe thead th {\n",
       "        text-align: right;\n",
       "    }\n",
       "</style>\n",
       "<table border=\"1\" class=\"dataframe\">\n",
       "  <thead>\n",
       "    <tr style=\"text-align: right;\">\n",
       "      <th></th>\n",
       "      <th>color</th>\n",
       "      <th>age</th>\n",
       "      <th>height</th>\n",
       "    </tr>\n",
       "  </thead>\n",
       "  <tbody>\n",
       "    <tr>\n",
       "      <th>Jane</th>\n",
       "      <td>blue</td>\n",
       "      <td>30</td>\n",
       "      <td>165</td>\n",
       "    </tr>\n",
       "    <tr>\n",
       "      <th>Niko</th>\n",
       "      <td>green</td>\n",
       "      <td>21</td>\n",
       "      <td>170</td>\n",
       "    </tr>\n",
       "    <tr>\n",
       "      <th>Aaron</th>\n",
       "      <td>red</td>\n",
       "      <td>12</td>\n",
       "      <td>185</td>\n",
       "    </tr>\n",
       "    <tr>\n",
       "      <th>Penelope</th>\n",
       "      <td>white</td>\n",
       "      <td>36</td>\n",
       "      <td>140</td>\n",
       "    </tr>\n",
       "    <tr>\n",
       "      <th>Dean</th>\n",
       "      <td>grey</td>\n",
       "      <td>45</td>\n",
       "      <td>190</td>\n",
       "    </tr>\n",
       "    <tr>\n",
       "      <th>Cristina</th>\n",
       "      <td>yellow</td>\n",
       "      <td>90</td>\n",
       "      <td>163</td>\n",
       "    </tr>\n",
       "    <tr>\n",
       "      <th>Cornella</th>\n",
       "      <td>orange</td>\n",
       "      <td>54</td>\n",
       "      <td>178</td>\n",
       "    </tr>\n",
       "  </tbody>\n",
       "</table>\n",
       "</div>"
      ],
      "text/plain": [
       "           color  age  height\n",
       "Jane        blue   30     165\n",
       "Niko       green   21     170\n",
       "Aaron        red   12     185\n",
       "Penelope   white   36     140\n",
       "Dean        grey   45     190\n",
       "Cristina  yellow   90     163\n",
       "Cornella  orange   54     178"
      ]
     },
     "execution_count": 47,
     "metadata": {},
     "output_type": "execute_result"
    }
   ],
   "source": [
    "dataFrames.loc[:,['color','age','height']]"
   ]
  },
  {
   "cell_type": "code",
   "execution_count": 48,
   "metadata": {},
   "outputs": [
    {
     "data": {
      "text/html": [
       "<div>\n",
       "<style scoped>\n",
       "    .dataframe tbody tr th:only-of-type {\n",
       "        vertical-align: middle;\n",
       "    }\n",
       "\n",
       "    .dataframe tbody tr th {\n",
       "        vertical-align: top;\n",
       "    }\n",
       "\n",
       "    .dataframe thead th {\n",
       "        text-align: right;\n",
       "    }\n",
       "</style>\n",
       "<table border=\"1\" class=\"dataframe\">\n",
       "  <thead>\n",
       "    <tr style=\"text-align: right;\">\n",
       "      <th></th>\n",
       "      <th>state</th>\n",
       "      <th>color</th>\n",
       "      <th>food</th>\n",
       "      <th>age</th>\n",
       "      <th>height</th>\n",
       "      <th>score</th>\n",
       "    </tr>\n",
       "  </thead>\n",
       "  <tbody>\n",
       "    <tr>\n",
       "      <th>Aaron</th>\n",
       "      <td>FL</td>\n",
       "      <td>red</td>\n",
       "      <td>Lamb</td>\n",
       "      <td>12</td>\n",
       "      <td>185</td>\n",
       "      <td>1.2</td>\n",
       "    </tr>\n",
       "    <tr>\n",
       "      <th>Dean</th>\n",
       "      <td>AK</td>\n",
       "      <td>grey</td>\n",
       "      <td>Beef</td>\n",
       "      <td>45</td>\n",
       "      <td>190</td>\n",
       "      <td>8.3</td>\n",
       "    </tr>\n",
       "  </tbody>\n",
       "</table>\n",
       "</div>"
      ],
      "text/plain": [
       "      state color  food  age  height  score\n",
       "Aaron    FL   red  Lamb   12     185    1.2\n",
       "Dean     AK  grey  Beef   45     190    8.3"
      ]
     },
     "execution_count": 48,
     "metadata": {},
     "output_type": "execute_result"
    }
   ],
   "source": [
    "dataFrames.loc[['Aaron','Dean'],:]"
   ]
  },
  {
   "cell_type": "code",
   "execution_count": 49,
   "metadata": {},
   "outputs": [
    {
     "data": {
      "text/html": [
       "<div>\n",
       "<style scoped>\n",
       "    .dataframe tbody tr th:only-of-type {\n",
       "        vertical-align: middle;\n",
       "    }\n",
       "\n",
       "    .dataframe tbody tr th {\n",
       "        vertical-align: top;\n",
       "    }\n",
       "\n",
       "    .dataframe thead th {\n",
       "        text-align: right;\n",
       "    }\n",
       "</style>\n",
       "<table border=\"1\" class=\"dataframe\">\n",
       "  <thead>\n",
       "    <tr style=\"text-align: right;\">\n",
       "      <th></th>\n",
       "      <th>color</th>\n",
       "      <th>age</th>\n",
       "      <th>height</th>\n",
       "    </tr>\n",
       "  </thead>\n",
       "  <tbody>\n",
       "    <tr>\n",
       "      <th>Aaron</th>\n",
       "      <td>red</td>\n",
       "      <td>12</td>\n",
       "      <td>185</td>\n",
       "    </tr>\n",
       "    <tr>\n",
       "      <th>Dean</th>\n",
       "      <td>grey</td>\n",
       "      <td>45</td>\n",
       "      <td>190</td>\n",
       "    </tr>\n",
       "  </tbody>\n",
       "</table>\n",
       "</div>"
      ],
      "text/plain": [
       "      color  age  height\n",
       "Aaron   red   12     185\n",
       "Dean   grey   45     190"
      ]
     },
     "execution_count": 49,
     "metadata": {},
     "output_type": "execute_result"
    }
   ],
   "source": [
    "dataFrames.loc[['Aaron','Dean'],['color','age','height']]"
   ]
  },
  {
   "cell_type": "code",
   "execution_count": 50,
   "metadata": {},
   "outputs": [],
   "source": [
    "index = dataFrames.index\n",
    "columns = dataFrames.columns\n",
    "values = dataFrames.values"
   ]
  },
  {
   "cell_type": "code",
   "execution_count": 51,
   "metadata": {},
   "outputs": [
    {
     "data": {
      "text/plain": [
       "Index(['Jane', 'Niko', 'Aaron', 'Penelope', 'Dean', 'Cristina', 'Cornella'], dtype='object')"
      ]
     },
     "execution_count": 51,
     "metadata": {},
     "output_type": "execute_result"
    }
   ],
   "source": [
    "index"
   ]
  },
  {
   "cell_type": "code",
   "execution_count": 52,
   "metadata": {},
   "outputs": [
    {
     "data": {
      "text/plain": [
       "Index(['state', 'color', 'food', 'age', 'height', 'score'], dtype='object')"
      ]
     },
     "execution_count": 52,
     "metadata": {},
     "output_type": "execute_result"
    }
   ],
   "source": [
    "columns"
   ]
  },
  {
   "cell_type": "code",
   "execution_count": 53,
   "metadata": {},
   "outputs": [
    {
     "data": {
      "text/plain": [
       "array([['NY', 'blue', 'Steak', 30, 165, 5.5],\n",
       "       ['TX', 'green', 'Dal', 21, 170, 4.3],\n",
       "       ['FL', 'red', 'Lamb', 12, 185, 1.2],\n",
       "       ['AL', 'white', 'Pork', 36, 140, 9.6],\n",
       "       ['AK', 'grey', 'Beef', 45, 190, 8.3],\n",
       "       ['TX', 'yellow', 'Burger', 90, 163, 6.5],\n",
       "       ['TX', 'orange', 'Pasta', 54, 178, 7.3]], dtype=object)"
      ]
     },
     "execution_count": 53,
     "metadata": {},
     "output_type": "execute_result"
    }
   ],
   "source": [
    "values"
   ]
  },
  {
   "cell_type": "code",
   "execution_count": 54,
   "metadata": {},
   "outputs": [
    {
     "data": {
      "text/html": [
       "<div>\n",
       "<style scoped>\n",
       "    .dataframe tbody tr th:only-of-type {\n",
       "        vertical-align: middle;\n",
       "    }\n",
       "\n",
       "    .dataframe tbody tr th {\n",
       "        vertical-align: top;\n",
       "    }\n",
       "\n",
       "    .dataframe thead th {\n",
       "        text-align: right;\n",
       "    }\n",
       "</style>\n",
       "<table border=\"1\" class=\"dataframe\">\n",
       "  <thead>\n",
       "    <tr style=\"text-align: right;\">\n",
       "      <th></th>\n",
       "      <th>state</th>\n",
       "      <th>color</th>\n",
       "      <th>food</th>\n",
       "      <th>age</th>\n",
       "      <th>height</th>\n",
       "      <th>score</th>\n",
       "    </tr>\n",
       "  </thead>\n",
       "  <tbody>\n",
       "    <tr>\n",
       "      <th>Jane</th>\n",
       "      <td>NY</td>\n",
       "      <td>blue</td>\n",
       "      <td>Steak</td>\n",
       "      <td>30</td>\n",
       "      <td>165</td>\n",
       "      <td>5.5</td>\n",
       "    </tr>\n",
       "    <tr>\n",
       "      <th>Niko</th>\n",
       "      <td>TX</td>\n",
       "      <td>green</td>\n",
       "      <td>Dal</td>\n",
       "      <td>21</td>\n",
       "      <td>170</td>\n",
       "      <td>4.3</td>\n",
       "    </tr>\n",
       "    <tr>\n",
       "      <th>Aaron</th>\n",
       "      <td>FL</td>\n",
       "      <td>red</td>\n",
       "      <td>Lamb</td>\n",
       "      <td>12</td>\n",
       "      <td>185</td>\n",
       "      <td>1.2</td>\n",
       "    </tr>\n",
       "    <tr>\n",
       "      <th>Penelope</th>\n",
       "      <td>AL</td>\n",
       "      <td>white</td>\n",
       "      <td>Pork</td>\n",
       "      <td>36</td>\n",
       "      <td>140</td>\n",
       "      <td>9.6</td>\n",
       "    </tr>\n",
       "    <tr>\n",
       "      <th>Dean</th>\n",
       "      <td>AK</td>\n",
       "      <td>grey</td>\n",
       "      <td>Beef</td>\n",
       "      <td>45</td>\n",
       "      <td>190</td>\n",
       "      <td>8.3</td>\n",
       "    </tr>\n",
       "    <tr>\n",
       "      <th>Cristina</th>\n",
       "      <td>TX</td>\n",
       "      <td>yellow</td>\n",
       "      <td>Burger</td>\n",
       "      <td>90</td>\n",
       "      <td>163</td>\n",
       "      <td>6.5</td>\n",
       "    </tr>\n",
       "    <tr>\n",
       "      <th>Cornella</th>\n",
       "      <td>TX</td>\n",
       "      <td>orange</td>\n",
       "      <td>Pasta</td>\n",
       "      <td>54</td>\n",
       "      <td>178</td>\n",
       "      <td>7.3</td>\n",
       "    </tr>\n",
       "  </tbody>\n",
       "</table>\n",
       "</div>"
      ],
      "text/plain": [
       "         state   color    food  age  height  score\n",
       "Jane        NY    blue   Steak   30     165    5.5\n",
       "Niko        TX   green     Dal   21     170    4.3\n",
       "Aaron       FL     red    Lamb   12     185    1.2\n",
       "Penelope    AL   white    Pork   36     140    9.6\n",
       "Dean        AK    grey    Beef   45     190    8.3\n",
       "Cristina    TX  yellow  Burger   90     163    6.5\n",
       "Cornella    TX  orange   Pasta   54     178    7.3"
      ]
     },
     "execution_count": 54,
     "metadata": {},
     "output_type": "execute_result"
    }
   ],
   "source": [
    "dataFrames"
   ]
  },
  {
   "cell_type": "code",
   "execution_count": 55,
   "metadata": {},
   "outputs": [
    {
     "data": {
      "text/html": [
       "<div>\n",
       "<style scoped>\n",
       "    .dataframe tbody tr th:only-of-type {\n",
       "        vertical-align: middle;\n",
       "    }\n",
       "\n",
       "    .dataframe tbody tr th {\n",
       "        vertical-align: top;\n",
       "    }\n",
       "\n",
       "    .dataframe thead th {\n",
       "        text-align: right;\n",
       "    }\n",
       "</style>\n",
       "<table border=\"1\" class=\"dataframe\">\n",
       "  <thead>\n",
       "    <tr style=\"text-align: right;\">\n",
       "      <th></th>\n",
       "      <th>color</th>\n",
       "      <th>food</th>\n",
       "      <th>height</th>\n",
       "    </tr>\n",
       "  </thead>\n",
       "  <tbody>\n",
       "    <tr>\n",
       "      <th>Jane</th>\n",
       "      <td>blue</td>\n",
       "      <td>Steak</td>\n",
       "      <td>165</td>\n",
       "    </tr>\n",
       "    <tr>\n",
       "      <th>Niko</th>\n",
       "      <td>green</td>\n",
       "      <td>Dal</td>\n",
       "      <td>170</td>\n",
       "    </tr>\n",
       "    <tr>\n",
       "      <th>Aaron</th>\n",
       "      <td>red</td>\n",
       "      <td>Lamb</td>\n",
       "      <td>185</td>\n",
       "    </tr>\n",
       "    <tr>\n",
       "      <th>Penelope</th>\n",
       "      <td>white</td>\n",
       "      <td>Pork</td>\n",
       "      <td>140</td>\n",
       "    </tr>\n",
       "    <tr>\n",
       "      <th>Dean</th>\n",
       "      <td>grey</td>\n",
       "      <td>Beef</td>\n",
       "      <td>190</td>\n",
       "    </tr>\n",
       "    <tr>\n",
       "      <th>Cristina</th>\n",
       "      <td>yellow</td>\n",
       "      <td>Burger</td>\n",
       "      <td>163</td>\n",
       "    </tr>\n",
       "    <tr>\n",
       "      <th>Cornella</th>\n",
       "      <td>orange</td>\n",
       "      <td>Pasta</td>\n",
       "      <td>178</td>\n",
       "    </tr>\n",
       "  </tbody>\n",
       "</table>\n",
       "</div>"
      ],
      "text/plain": [
       "           color    food  height\n",
       "Jane        blue   Steak     165\n",
       "Niko       green     Dal     170\n",
       "Aaron        red    Lamb     185\n",
       "Penelope   white    Pork     140\n",
       "Dean        grey    Beef     190\n",
       "Cristina  yellow  Burger     163\n",
       "Cornella  orange   Pasta     178"
      ]
     },
     "execution_count": 55,
     "metadata": {},
     "output_type": "execute_result"
    }
   ],
   "source": [
    "dataFrames.iloc[:,[1,2,4]]"
   ]
  },
  {
   "cell_type": "code",
   "execution_count": 56,
   "metadata": {},
   "outputs": [
    {
     "data": {
      "text/html": [
       "<div>\n",
       "<style scoped>\n",
       "    .dataframe tbody tr th:only-of-type {\n",
       "        vertical-align: middle;\n",
       "    }\n",
       "\n",
       "    .dataframe tbody tr th {\n",
       "        vertical-align: top;\n",
       "    }\n",
       "\n",
       "    .dataframe thead th {\n",
       "        text-align: right;\n",
       "    }\n",
       "</style>\n",
       "<table border=\"1\" class=\"dataframe\">\n",
       "  <thead>\n",
       "    <tr style=\"text-align: right;\">\n",
       "      <th></th>\n",
       "      <th>state</th>\n",
       "      <th>color</th>\n",
       "      <th>food</th>\n",
       "      <th>age</th>\n",
       "      <th>height</th>\n",
       "      <th>score</th>\n",
       "    </tr>\n",
       "  </thead>\n",
       "  <tbody>\n",
       "    <tr>\n",
       "      <th>Aaron</th>\n",
       "      <td>FL</td>\n",
       "      <td>red</td>\n",
       "      <td>Lamb</td>\n",
       "      <td>12</td>\n",
       "      <td>185</td>\n",
       "      <td>1.2</td>\n",
       "    </tr>\n",
       "    <tr>\n",
       "      <th>Dean</th>\n",
       "      <td>AK</td>\n",
       "      <td>grey</td>\n",
       "      <td>Beef</td>\n",
       "      <td>45</td>\n",
       "      <td>190</td>\n",
       "      <td>8.3</td>\n",
       "    </tr>\n",
       "  </tbody>\n",
       "</table>\n",
       "</div>"
      ],
      "text/plain": [
       "      state color  food  age  height  score\n",
       "Aaron    FL   red  Lamb   12     185    1.2\n",
       "Dean     AK  grey  Beef   45     190    8.3"
      ]
     },
     "execution_count": 56,
     "metadata": {},
     "output_type": "execute_result"
    }
   ],
   "source": [
    "dataFrames.iloc[[2,4],:]"
   ]
  },
  {
   "cell_type": "code",
   "execution_count": 57,
   "metadata": {},
   "outputs": [
    {
     "data": {
      "text/html": [
       "<div>\n",
       "<style scoped>\n",
       "    .dataframe tbody tr th:only-of-type {\n",
       "        vertical-align: middle;\n",
       "    }\n",
       "\n",
       "    .dataframe tbody tr th {\n",
       "        vertical-align: top;\n",
       "    }\n",
       "\n",
       "    .dataframe thead th {\n",
       "        text-align: right;\n",
       "    }\n",
       "</style>\n",
       "<table border=\"1\" class=\"dataframe\">\n",
       "  <thead>\n",
       "    <tr style=\"text-align: right;\">\n",
       "      <th></th>\n",
       "      <th>color</th>\n",
       "      <th>food</th>\n",
       "      <th>height</th>\n",
       "    </tr>\n",
       "  </thead>\n",
       "  <tbody>\n",
       "    <tr>\n",
       "      <th>Aaron</th>\n",
       "      <td>red</td>\n",
       "      <td>Lamb</td>\n",
       "      <td>185</td>\n",
       "    </tr>\n",
       "    <tr>\n",
       "      <th>Dean</th>\n",
       "      <td>grey</td>\n",
       "      <td>Beef</td>\n",
       "      <td>190</td>\n",
       "    </tr>\n",
       "  </tbody>\n",
       "</table>\n",
       "</div>"
      ],
      "text/plain": [
       "      color  food  height\n",
       "Aaron   red  Lamb     185\n",
       "Dean   grey  Beef     190"
      ]
     },
     "execution_count": 57,
     "metadata": {},
     "output_type": "execute_result"
    }
   ],
   "source": [
    "dataFrames.iloc[[2,4],[1,2,4]]"
   ]
  },
  {
   "cell_type": "markdown",
   "metadata": {},
   "source": [
    "# 10.2 Data Aggregation\n",
    "###  Aggregations refer to any data transformation that produces scalar values from arrays."
   ]
  },
  {
   "cell_type": "code",
   "execution_count": 60,
   "metadata": {},
   "outputs": [
    {
     "data": {
      "text/html": [
       "<div>\n",
       "<style scoped>\n",
       "    .dataframe tbody tr th:only-of-type {\n",
       "        vertical-align: middle;\n",
       "    }\n",
       "\n",
       "    .dataframe tbody tr th {\n",
       "        vertical-align: top;\n",
       "    }\n",
       "\n",
       "    .dataframe thead th {\n",
       "        text-align: right;\n",
       "    }\n",
       "</style>\n",
       "<table border=\"1\" class=\"dataframe\">\n",
       "  <thead>\n",
       "    <tr style=\"text-align: right;\">\n",
       "      <th></th>\n",
       "      <th>key1</th>\n",
       "      <th>key2</th>\n",
       "      <th>d1</th>\n",
       "      <th>d2</th>\n",
       "    </tr>\n",
       "  </thead>\n",
       "  <tbody>\n",
       "    <tr>\n",
       "      <th>0</th>\n",
       "      <td>a</td>\n",
       "      <td>one</td>\n",
       "      <td>-0.208764</td>\n",
       "      <td>-0.842190</td>\n",
       "    </tr>\n",
       "    <tr>\n",
       "      <th>1</th>\n",
       "      <td>a</td>\n",
       "      <td>two</td>\n",
       "      <td>-0.743606</td>\n",
       "      <td>-0.209776</td>\n",
       "    </tr>\n",
       "    <tr>\n",
       "      <th>2</th>\n",
       "      <td>b</td>\n",
       "      <td>one</td>\n",
       "      <td>-1.297901</td>\n",
       "      <td>0.119113</td>\n",
       "    </tr>\n",
       "    <tr>\n",
       "      <th>3</th>\n",
       "      <td>b</td>\n",
       "      <td>two</td>\n",
       "      <td>0.073680</td>\n",
       "      <td>-0.021129</td>\n",
       "    </tr>\n",
       "    <tr>\n",
       "      <th>4</th>\n",
       "      <td>a</td>\n",
       "      <td>three</td>\n",
       "      <td>1.396790</td>\n",
       "      <td>0.140369</td>\n",
       "    </tr>\n",
       "    <tr>\n",
       "      <th>5</th>\n",
       "      <td>a</td>\n",
       "      <td>one</td>\n",
       "      <td>-0.878292</td>\n",
       "      <td>1.648030</td>\n",
       "    </tr>\n",
       "  </tbody>\n",
       "</table>\n",
       "</div>"
      ],
      "text/plain": [
       "  key1   key2        d1        d2\n",
       "0    a    one -0.208764 -0.842190\n",
       "1    a    two -0.743606 -0.209776\n",
       "2    b    one -1.297901  0.119113\n",
       "3    b    two  0.073680 -0.021129\n",
       "4    a  three  1.396790  0.140369\n",
       "5    a    one -0.878292  1.648030"
      ]
     },
     "execution_count": 60,
     "metadata": {},
     "output_type": "execute_result"
    }
   ],
   "source": [
    "df = pd.DataFrame({\n",
    "    'key1': ['a','a','b','b','a','a'],\n",
    "    'key2': ['one','two','one','two','three','one'],\n",
    "    'd1': np.random.randn(6),\n",
    "    'd2': np.random.randn(6)\n",
    "})\n",
    "df"
   ]
  },
  {
   "cell_type": "code",
   "execution_count": 61,
   "metadata": {},
   "outputs": [],
   "source": [
    "grouped = df.groupby('key2')"
   ]
  },
  {
   "cell_type": "code",
   "execution_count": 62,
   "metadata": {},
   "outputs": [
    {
     "data": {
      "text/plain": [
       "key2\n",
       "one     -0.794985\n",
       "three    1.396790\n",
       "two     -0.334963\n",
       "Name: d1, dtype: float64"
      ]
     },
     "execution_count": 62,
     "metadata": {},
     "output_type": "execute_result"
    }
   ],
   "source": [
    "grouped['d1'].mean()"
   ]
  },
  {
   "cell_type": "code",
   "execution_count": 63,
   "metadata": {},
   "outputs": [
    {
     "data": {
      "text/plain": [
       "key2\n",
       "one     -0.342669\n",
       "three    1.396790\n",
       "two     -0.008048\n",
       "Name: d1, dtype: float64"
      ]
     },
     "execution_count": 63,
     "metadata": {},
     "output_type": "execute_result"
    }
   ],
   "source": [
    "grouped['d1'].quantile(0.9)"
   ]
  },
  {
   "cell_type": "code",
   "execution_count": 69,
   "metadata": {},
   "outputs": [],
   "source": [
    "def arrMax(arr):\n",
    "    return arr.max()-arr.min()"
   ]
  },
  {
   "cell_type": "code",
   "execution_count": 70,
   "metadata": {},
   "outputs": [
    {
     "data": {
      "text/html": [
       "<div>\n",
       "<style scoped>\n",
       "    .dataframe tbody tr th:only-of-type {\n",
       "        vertical-align: middle;\n",
       "    }\n",
       "\n",
       "    .dataframe tbody tr th {\n",
       "        vertical-align: top;\n",
       "    }\n",
       "\n",
       "    .dataframe thead th {\n",
       "        text-align: right;\n",
       "    }\n",
       "</style>\n",
       "<table border=\"1\" class=\"dataframe\">\n",
       "  <thead>\n",
       "    <tr style=\"text-align: right;\">\n",
       "      <th></th>\n",
       "      <th>d1</th>\n",
       "      <th>d2</th>\n",
       "    </tr>\n",
       "    <tr>\n",
       "      <th>key2</th>\n",
       "      <th></th>\n",
       "      <th></th>\n",
       "    </tr>\n",
       "  </thead>\n",
       "  <tbody>\n",
       "    <tr>\n",
       "      <th>one</th>\n",
       "      <td>1.089137</td>\n",
       "      <td>2.490220</td>\n",
       "    </tr>\n",
       "    <tr>\n",
       "      <th>three</th>\n",
       "      <td>0.000000</td>\n",
       "      <td>0.000000</td>\n",
       "    </tr>\n",
       "    <tr>\n",
       "      <th>two</th>\n",
       "      <td>0.817287</td>\n",
       "      <td>0.188647</td>\n",
       "    </tr>\n",
       "  </tbody>\n",
       "</table>\n",
       "</div>"
      ],
      "text/plain": [
       "             d1        d2\n",
       "key2                     \n",
       "one    1.089137  2.490220\n",
       "three  0.000000  0.000000\n",
       "two    0.817287  0.188647"
      ]
     },
     "execution_count": 70,
     "metadata": {},
     "output_type": "execute_result"
    }
   ],
   "source": [
    "grouped.agg(arrMax)"
   ]
  },
  {
   "cell_type": "code",
   "execution_count": 92,
   "metadata": {},
   "outputs": [
    {
     "data": {
      "text/html": [
       "<div>\n",
       "<style scoped>\n",
       "    .dataframe tbody tr th:only-of-type {\n",
       "        vertical-align: middle;\n",
       "    }\n",
       "\n",
       "    .dataframe tbody tr th {\n",
       "        vertical-align: top;\n",
       "    }\n",
       "\n",
       "    .dataframe thead th {\n",
       "        text-align: right;\n",
       "    }\n",
       "</style>\n",
       "<table border=\"1\" class=\"dataframe\">\n",
       "  <thead>\n",
       "    <tr style=\"text-align: right;\">\n",
       "      <th></th>\n",
       "      <th>total_bill</th>\n",
       "      <th>tip</th>\n",
       "      <th>smoker</th>\n",
       "      <th>day</th>\n",
       "      <th>time</th>\n",
       "      <th>size</th>\n",
       "      <th>tip_pct</th>\n",
       "    </tr>\n",
       "  </thead>\n",
       "  <tbody>\n",
       "    <tr>\n",
       "      <th>0</th>\n",
       "      <td>9891</td>\n",
       "      <td>-0.003454</td>\n",
       "      <td>no</td>\n",
       "      <td>sun</td>\n",
       "      <td>dinner</td>\n",
       "      <td>45</td>\n",
       "      <td>-0.854909</td>\n",
       "    </tr>\n",
       "    <tr>\n",
       "      <th>1</th>\n",
       "      <td>474</td>\n",
       "      <td>0.474368</td>\n",
       "      <td>no</td>\n",
       "      <td>sun</td>\n",
       "      <td>dinner</td>\n",
       "      <td>24</td>\n",
       "      <td>0.161536</td>\n",
       "    </tr>\n",
       "    <tr>\n",
       "      <th>2</th>\n",
       "      <td>5377</td>\n",
       "      <td>-1.303035</td>\n",
       "      <td>no</td>\n",
       "      <td>sun</td>\n",
       "      <td>dinner</td>\n",
       "      <td>72</td>\n",
       "      <td>3.429286</td>\n",
       "    </tr>\n",
       "    <tr>\n",
       "      <th>3</th>\n",
       "      <td>1089</td>\n",
       "      <td>1.356533</td>\n",
       "      <td>no</td>\n",
       "      <td>sun</td>\n",
       "      <td>dinner</td>\n",
       "      <td>71</td>\n",
       "      <td>0.343984</td>\n",
       "    </tr>\n",
       "    <tr>\n",
       "      <th>4</th>\n",
       "      <td>7088</td>\n",
       "      <td>-0.146742</td>\n",
       "      <td>no</td>\n",
       "      <td>sun</td>\n",
       "      <td>dinner</td>\n",
       "      <td>44</td>\n",
       "      <td>-0.795312</td>\n",
       "    </tr>\n",
       "    <tr>\n",
       "      <th>5</th>\n",
       "      <td>2363</td>\n",
       "      <td>-0.408952</td>\n",
       "      <td>no</td>\n",
       "      <td>sun</td>\n",
       "      <td>dinner</td>\n",
       "      <td>73</td>\n",
       "      <td>-0.406539</td>\n",
       "    </tr>\n",
       "  </tbody>\n",
       "</table>\n",
       "</div>"
      ],
      "text/plain": [
       "   total_bill       tip smoker  day    time  size   tip_pct\n",
       "0        9891 -0.003454     no  sun  dinner    45 -0.854909\n",
       "1         474  0.474368     no  sun  dinner    24  0.161536\n",
       "2        5377 -1.303035     no  sun  dinner    72  3.429286\n",
       "3        1089  1.356533     no  sun  dinner    71  0.343984\n",
       "4        7088 -0.146742     no  sun  dinner    44 -0.795312\n",
       "5        2363 -0.408952     no  sun  dinner    73 -0.406539"
      ]
     },
     "execution_count": 92,
     "metadata": {},
     "output_type": "execute_result"
    }
   ],
   "source": [
    "newDf = pd.DataFrame({\n",
    "    \"total_bill\": np.random.randint(10000,size=6),\n",
    "    \"tip\": np.random.randn(6),\n",
    "    \"smoker\": ['no','no','no','no','no','no'],\n",
    "    \"day\": ['sun','sun','sun','sun','sun','sun'],\n",
    "    'time': ['dinner','dinner','dinner','dinner','dinner','dinner'],\n",
    "    \"size\": np.random.randint(78, size=6),\n",
    "    \"tip_pct\": np.random.randn(6)\n",
    "    \n",
    "    \n",
    "})\n",
    "newDf"
   ]
  },
  {
   "cell_type": "code",
   "execution_count": 89,
   "metadata": {},
   "outputs": [],
   "source": [
    "grouped = newDf.groupby(['day','smoker'])"
   ]
  },
  {
   "cell_type": "code",
   "execution_count": 90,
   "metadata": {},
   "outputs": [
    {
     "data": {
      "text/html": [
       "<div>\n",
       "<style scoped>\n",
       "    .dataframe tbody tr th:only-of-type {\n",
       "        vertical-align: middle;\n",
       "    }\n",
       "\n",
       "    .dataframe tbody tr th {\n",
       "        vertical-align: top;\n",
       "    }\n",
       "\n",
       "    .dataframe thead th {\n",
       "        text-align: right;\n",
       "    }\n",
       "</style>\n",
       "<table border=\"1\" class=\"dataframe\">\n",
       "  <thead>\n",
       "    <tr style=\"text-align: right;\">\n",
       "      <th></th>\n",
       "      <th></th>\n",
       "      <th>total_bill</th>\n",
       "      <th>tip</th>\n",
       "      <th>size</th>\n",
       "      <th>tip_pct</th>\n",
       "    </tr>\n",
       "    <tr>\n",
       "      <th>day</th>\n",
       "      <th>smoker</th>\n",
       "      <th></th>\n",
       "      <th></th>\n",
       "      <th></th>\n",
       "      <th></th>\n",
       "    </tr>\n",
       "  </thead>\n",
       "  <tbody>\n",
       "    <tr>\n",
       "      <th>sun</th>\n",
       "      <th>no</th>\n",
       "      <td>-0.623257</td>\n",
       "      <td>-0.382671</td>\n",
       "      <td>42.833333</td>\n",
       "      <td>0.802358</td>\n",
       "    </tr>\n",
       "  </tbody>\n",
       "</table>\n",
       "</div>"
      ],
      "text/plain": [
       "            total_bill       tip       size   tip_pct\n",
       "day smoker                                           \n",
       "sun no       -0.623257 -0.382671  42.833333  0.802358"
      ]
     },
     "execution_count": 90,
     "metadata": {},
     "output_type": "execute_result"
    }
   ],
   "source": [
    "grouped.mean()"
   ]
  },
  {
   "cell_type": "code",
   "execution_count": 93,
   "metadata": {},
   "outputs": [],
   "source": [
    "group_pct = grouped['tip_pct']"
   ]
  },
  {
   "cell_type": "code",
   "execution_count": 95,
   "metadata": {},
   "outputs": [
    {
     "data": {
      "text/plain": [
       "day  smoker\n",
       "sun  no        0.802358\n",
       "Name: tip_pct, dtype: float64"
      ]
     },
     "execution_count": 95,
     "metadata": {},
     "output_type": "execute_result"
    }
   ],
   "source": [
    "group_pct.agg('mean')"
   ]
  },
  {
   "cell_type": "code",
   "execution_count": 96,
   "metadata": {},
   "outputs": [
    {
     "data": {
      "text/html": [
       "<div>\n",
       "<style scoped>\n",
       "    .dataframe tbody tr th:only-of-type {\n",
       "        vertical-align: middle;\n",
       "    }\n",
       "\n",
       "    .dataframe tbody tr th {\n",
       "        vertical-align: top;\n",
       "    }\n",
       "\n",
       "    .dataframe thead th {\n",
       "        text-align: right;\n",
       "    }\n",
       "</style>\n",
       "<table border=\"1\" class=\"dataframe\">\n",
       "  <thead>\n",
       "    <tr style=\"text-align: right;\">\n",
       "      <th></th>\n",
       "      <th></th>\n",
       "      <th>mean</th>\n",
       "      <th>std</th>\n",
       "      <th>arrMax</th>\n",
       "    </tr>\n",
       "    <tr>\n",
       "      <th>day</th>\n",
       "      <th>smoker</th>\n",
       "      <th></th>\n",
       "      <th></th>\n",
       "      <th></th>\n",
       "    </tr>\n",
       "  </thead>\n",
       "  <tbody>\n",
       "    <tr>\n",
       "      <th>sun</th>\n",
       "      <th>no</th>\n",
       "      <td>0.802358</td>\n",
       "      <td>1.40031</td>\n",
       "      <td>4.305436</td>\n",
       "    </tr>\n",
       "  </tbody>\n",
       "</table>\n",
       "</div>"
      ],
      "text/plain": [
       "                mean      std    arrMax\n",
       "day smoker                             \n",
       "sun no      0.802358  1.40031  4.305436"
      ]
     },
     "execution_count": 96,
     "metadata": {},
     "output_type": "execute_result"
    }
   ],
   "source": [
    "group_pct.agg(['mean','std',arrMax])"
   ]
  },
  {
   "cell_type": "code",
   "execution_count": 98,
   "metadata": {},
   "outputs": [
    {
     "data": {
      "text/html": [
       "<div>\n",
       "<style scoped>\n",
       "    .dataframe tbody tr th:only-of-type {\n",
       "        vertical-align: middle;\n",
       "    }\n",
       "\n",
       "    .dataframe tbody tr th {\n",
       "        vertical-align: top;\n",
       "    }\n",
       "\n",
       "    .dataframe thead th {\n",
       "        text-align: right;\n",
       "    }\n",
       "</style>\n",
       "<table border=\"1\" class=\"dataframe\">\n",
       "  <thead>\n",
       "    <tr style=\"text-align: right;\">\n",
       "      <th></th>\n",
       "      <th></th>\n",
       "      <th>foo_mean_value</th>\n",
       "      <th>bar_std_value</th>\n",
       "    </tr>\n",
       "    <tr>\n",
       "      <th>day</th>\n",
       "      <th>smoker</th>\n",
       "      <th></th>\n",
       "      <th></th>\n",
       "    </tr>\n",
       "  </thead>\n",
       "  <tbody>\n",
       "    <tr>\n",
       "      <th>sun</th>\n",
       "      <th>no</th>\n",
       "      <td>0.802358</td>\n",
       "      <td>1.40031</td>\n",
       "    </tr>\n",
       "  </tbody>\n",
       "</table>\n",
       "</div>"
      ],
      "text/plain": [
       "            foo_mean_value  bar_std_value\n",
       "day smoker                               \n",
       "sun no            0.802358        1.40031"
      ]
     },
     "execution_count": 98,
     "metadata": {},
     "output_type": "execute_result"
    }
   ],
   "source": [
    "group_pct.agg([('foo_mean_value','mean'),('bar_std_value','std')])"
   ]
  },
  {
   "cell_type": "code",
   "execution_count": 99,
   "metadata": {},
   "outputs": [
    {
     "data": {
      "text/html": [
       "<div>\n",
       "<style scoped>\n",
       "    .dataframe tbody tr th:only-of-type {\n",
       "        vertical-align: middle;\n",
       "    }\n",
       "\n",
       "    .dataframe tbody tr th {\n",
       "        vertical-align: top;\n",
       "    }\n",
       "\n",
       "    .dataframe thead tr th {\n",
       "        text-align: left;\n",
       "    }\n",
       "\n",
       "    .dataframe thead tr:last-of-type th {\n",
       "        text-align: right;\n",
       "    }\n",
       "</style>\n",
       "<table border=\"1\" class=\"dataframe\">\n",
       "  <thead>\n",
       "    <tr>\n",
       "      <th></th>\n",
       "      <th></th>\n",
       "      <th colspan=\"2\" halign=\"left\">total_bill</th>\n",
       "      <th colspan=\"2\" halign=\"left\">tip</th>\n",
       "      <th colspan=\"2\" halign=\"left\">size</th>\n",
       "      <th colspan=\"2\" halign=\"left\">tip_pct</th>\n",
       "    </tr>\n",
       "    <tr>\n",
       "      <th></th>\n",
       "      <th></th>\n",
       "      <th>mean</th>\n",
       "      <th>std</th>\n",
       "      <th>mean</th>\n",
       "      <th>std</th>\n",
       "      <th>mean</th>\n",
       "      <th>std</th>\n",
       "      <th>mean</th>\n",
       "      <th>std</th>\n",
       "    </tr>\n",
       "    <tr>\n",
       "      <th>day</th>\n",
       "      <th>smoker</th>\n",
       "      <th></th>\n",
       "      <th></th>\n",
       "      <th></th>\n",
       "      <th></th>\n",
       "      <th></th>\n",
       "      <th></th>\n",
       "      <th></th>\n",
       "      <th></th>\n",
       "    </tr>\n",
       "  </thead>\n",
       "  <tbody>\n",
       "    <tr>\n",
       "      <th>sun</th>\n",
       "      <th>no</th>\n",
       "      <td>-0.623257</td>\n",
       "      <td>1.013473</td>\n",
       "      <td>-0.382671</td>\n",
       "      <td>1.445399</td>\n",
       "      <td>42.833333</td>\n",
       "      <td>29.862463</td>\n",
       "      <td>0.802358</td>\n",
       "      <td>1.40031</td>\n",
       "    </tr>\n",
       "  </tbody>\n",
       "</table>\n",
       "</div>"
      ],
      "text/plain": [
       "           total_bill                 tip                 size             \\\n",
       "                 mean       std      mean       std       mean        std   \n",
       "day smoker                                                                  \n",
       "sun no      -0.623257  1.013473 -0.382671  1.445399  42.833333  29.862463   \n",
       "\n",
       "             tip_pct           \n",
       "                mean      std  \n",
       "day smoker                     \n",
       "sun no      0.802358  1.40031  "
      ]
     },
     "execution_count": 99,
     "metadata": {},
     "output_type": "execute_result"
    }
   ],
   "source": [
    "grouped.agg(['mean','std'])"
   ]
  },
  {
   "cell_type": "code",
   "execution_count": 102,
   "metadata": {},
   "outputs": [],
   "source": [
    "# To start, suppose we\n",
    "# wanted to compute the same three statistics for the tip_pct and total_bill\n",
    "# columns\n",
    "\n",
    "functions = ['count','mean','max']\n",
    "results = grouped['tip_pct','total_bill']"
   ]
  },
  {
   "cell_type": "code",
   "execution_count": 104,
   "metadata": {},
   "outputs": [
    {
     "data": {
      "text/html": [
       "<div>\n",
       "<style scoped>\n",
       "    .dataframe tbody tr th:only-of-type {\n",
       "        vertical-align: middle;\n",
       "    }\n",
       "\n",
       "    .dataframe tbody tr th {\n",
       "        vertical-align: top;\n",
       "    }\n",
       "\n",
       "    .dataframe thead tr th {\n",
       "        text-align: left;\n",
       "    }\n",
       "\n",
       "    .dataframe thead tr:last-of-type th {\n",
       "        text-align: right;\n",
       "    }\n",
       "</style>\n",
       "<table border=\"1\" class=\"dataframe\">\n",
       "  <thead>\n",
       "    <tr>\n",
       "      <th></th>\n",
       "      <th></th>\n",
       "      <th colspan=\"3\" halign=\"left\">tip_pct</th>\n",
       "      <th colspan=\"3\" halign=\"left\">total_bill</th>\n",
       "    </tr>\n",
       "    <tr>\n",
       "      <th></th>\n",
       "      <th></th>\n",
       "      <th>count</th>\n",
       "      <th>mean</th>\n",
       "      <th>max</th>\n",
       "      <th>count</th>\n",
       "      <th>mean</th>\n",
       "      <th>max</th>\n",
       "    </tr>\n",
       "    <tr>\n",
       "      <th>day</th>\n",
       "      <th>smoker</th>\n",
       "      <th></th>\n",
       "      <th></th>\n",
       "      <th></th>\n",
       "      <th></th>\n",
       "      <th></th>\n",
       "      <th></th>\n",
       "    </tr>\n",
       "  </thead>\n",
       "  <tbody>\n",
       "    <tr>\n",
       "      <th>sun</th>\n",
       "      <th>no</th>\n",
       "      <td>6</td>\n",
       "      <td>0.802358</td>\n",
       "      <td>2.880154</td>\n",
       "      <td>6</td>\n",
       "      <td>-0.623257</td>\n",
       "      <td>0.969562</td>\n",
       "    </tr>\n",
       "  </tbody>\n",
       "</table>\n",
       "</div>"
      ],
      "text/plain": [
       "           tip_pct                     total_bill                    \n",
       "             count      mean       max      count      mean       max\n",
       "day smoker                                                           \n",
       "sun no           6  0.802358  2.880154          6 -0.623257  0.969562"
      ]
     },
     "execution_count": 104,
     "metadata": {},
     "output_type": "execute_result"
    }
   ],
   "source": [
    "results.agg(functions)"
   ]
  },
  {
   "cell_type": "markdown",
   "metadata": {},
   "source": [
    "# Quantile and Bucket Analysis"
   ]
  },
  {
   "cell_type": "code",
   "execution_count": 106,
   "metadata": {},
   "outputs": [],
   "source": [
    "frame = pd.DataFrame({\n",
    "    'data1':np.random.randn(1000),\n",
    "    'data2':np.random.randn(1000)\n",
    "})"
   ]
  },
  {
   "cell_type": "code",
   "execution_count": 107,
   "metadata": {},
   "outputs": [
    {
     "data": {
      "text/html": [
       "<div>\n",
       "<style scoped>\n",
       "    .dataframe tbody tr th:only-of-type {\n",
       "        vertical-align: middle;\n",
       "    }\n",
       "\n",
       "    .dataframe tbody tr th {\n",
       "        vertical-align: top;\n",
       "    }\n",
       "\n",
       "    .dataframe thead th {\n",
       "        text-align: right;\n",
       "    }\n",
       "</style>\n",
       "<table border=\"1\" class=\"dataframe\">\n",
       "  <thead>\n",
       "    <tr style=\"text-align: right;\">\n",
       "      <th></th>\n",
       "      <th>data1</th>\n",
       "      <th>data2</th>\n",
       "    </tr>\n",
       "  </thead>\n",
       "  <tbody>\n",
       "    <tr>\n",
       "      <th>0</th>\n",
       "      <td>-0.017055</td>\n",
       "      <td>0.311692</td>\n",
       "    </tr>\n",
       "    <tr>\n",
       "      <th>1</th>\n",
       "      <td>-1.002658</td>\n",
       "      <td>0.232250</td>\n",
       "    </tr>\n",
       "    <tr>\n",
       "      <th>2</th>\n",
       "      <td>-1.420847</td>\n",
       "      <td>0.323958</td>\n",
       "    </tr>\n",
       "  </tbody>\n",
       "</table>\n",
       "</div>"
      ],
      "text/plain": [
       "      data1     data2\n",
       "0 -0.017055  0.311692\n",
       "1 -1.002658  0.232250\n",
       "2 -1.420847  0.323958"
      ]
     },
     "execution_count": 107,
     "metadata": {},
     "output_type": "execute_result"
    }
   ],
   "source": [
    "frame.head(3)"
   ]
  },
  {
   "cell_type": "code",
   "execution_count": 108,
   "metadata": {},
   "outputs": [],
   "source": [
    "quartiles = pd.cut(frame['data1'], bins=50)"
   ]
  },
  {
   "cell_type": "code",
   "execution_count": 110,
   "metadata": {},
   "outputs": [
    {
     "data": {
      "text/plain": [
       "0    (-0.0424, 0.0887]\n",
       "1      (-1.092, -0.96]\n",
       "2     (-1.485, -1.354]\n",
       "3     (-0.567, -0.436]\n",
       "4     (-1.354, -1.223]\n",
       "5    (-0.0424, 0.0887]\n",
       "6        (0.22, 0.351]\n",
       "7     (-0.698, -0.567]\n",
       "8        (0.22, 0.351]\n",
       "9       (0.876, 1.007]\n",
       "Name: data1, dtype: category\n",
       "Categories (50, interval[float64]): [(-3.197, -3.059] < (-3.059, -2.928] < (-2.928, -2.797] < (-2.797, -2.665] ... (2.843, 2.974] < (2.974, 3.105] < (3.105, 3.236] < (3.236, 3.368]]"
      ]
     },
     "execution_count": 110,
     "metadata": {},
     "output_type": "execute_result"
    }
   ],
   "source": [
    "quartiles[:10]"
   ]
  },
  {
   "cell_type": "code",
   "execution_count": 115,
   "metadata": {},
   "outputs": [],
   "source": [
    "def get_stats(group):\n",
    "    return {'min': group.min(), 'max': group.max(),'count': group.count(), 'mean': group.mean()}"
   ]
  },
  {
   "cell_type": "code",
   "execution_count": 120,
   "metadata": {},
   "outputs": [
    {
     "data": {
      "text/plain": [
       "0      (-0.0424, 0.0887]\n",
       "1        (-1.092, -0.96]\n",
       "2       (-1.485, -1.354]\n",
       "3       (-0.567, -0.436]\n",
       "4       (-1.354, -1.223]\n",
       "5      (-0.0424, 0.0887]\n",
       "6          (0.22, 0.351]\n",
       "7       (-0.698, -0.567]\n",
       "8          (0.22, 0.351]\n",
       "9         (0.876, 1.007]\n",
       "10        (1.138, 1.269]\n",
       "11      (-0.567, -0.436]\n",
       "12     (-0.0424, 0.0887]\n",
       "13        (1.138, 1.269]\n",
       "14        (0.876, 1.007]\n",
       "15         (0.22, 0.351]\n",
       "16      (-0.305, -0.174]\n",
       "17     (-0.174, -0.0424]\n",
       "18        (0.613, 0.745]\n",
       "19         (0.22, 0.351]\n",
       "20          (1.4, 1.531]\n",
       "21     (-0.174, -0.0424]\n",
       "22      (-1.879, -1.747]\n",
       "23        (0.0887, 0.22]\n",
       "24      (-1.879, -1.747]\n",
       "25       (-0.96, -0.829]\n",
       "26         (0.22, 0.351]\n",
       "27        (1.007, 1.138]\n",
       "28        (0.0887, 0.22]\n",
       "29        (1.925, 2.056]\n",
       "             ...        \n",
       "970       (0.613, 0.745]\n",
       "971     (-1.223, -1.092]\n",
       "972     (-0.305, -0.174]\n",
       "973       (1.663, 1.794]\n",
       "974      (-0.96, -0.829]\n",
       "975      (-2.01, -1.879]\n",
       "976     (-0.829, -0.698]\n",
       "977      (-1.092, -0.96]\n",
       "978     (-0.567, -0.436]\n",
       "979     (-0.829, -0.698]\n",
       "980    (-0.174, -0.0424]\n",
       "981     (-0.567, -0.436]\n",
       "982     (-0.436, -0.305]\n",
       "983     (-0.829, -0.698]\n",
       "984       (1.138, 1.269]\n",
       "985        (0.22, 0.351]\n",
       "986     (-1.616, -1.485]\n",
       "987       (0.351, 0.482]\n",
       "988     (-1.354, -1.223]\n",
       "989       (0.0887, 0.22]\n",
       "990       (1.007, 1.138]\n",
       "991       (0.876, 1.007]\n",
       "992     (-2.797, -2.665]\n",
       "993        (0.22, 0.351]\n",
       "994     (-0.436, -0.305]\n",
       "995         (1.269, 1.4]\n",
       "996       (0.482, 0.613]\n",
       "997       (0.351, 0.482]\n",
       "998     (-0.436, -0.305]\n",
       "999     (-0.305, -0.174]\n",
       "Name: data1, Length: 1000, dtype: category\n",
       "Categories (50, interval[float64]): [(-3.197, -3.059] < (-3.059, -2.928] < (-2.928, -2.797] < (-2.797, -2.665] ... (2.843, 2.974] < (2.974, 3.105] < (3.105, 3.236] < (3.236, 3.368]]"
      ]
     },
     "execution_count": 120,
     "metadata": {},
     "output_type": "execute_result"
    }
   ],
   "source": [
    "grouped = frame.data2.groupby(quartiles)\n",
    "quartiles"
   ]
  },
  {
   "cell_type": "code",
   "execution_count": 126,
   "metadata": {},
   "outputs": [
    {
     "data": {
      "text/html": [
       "<div>\n",
       "<style scoped>\n",
       "    .dataframe tbody tr th:only-of-type {\n",
       "        vertical-align: middle;\n",
       "    }\n",
       "\n",
       "    .dataframe tbody tr th {\n",
       "        vertical-align: top;\n",
       "    }\n",
       "\n",
       "    .dataframe thead th {\n",
       "        text-align: right;\n",
       "    }\n",
       "</style>\n",
       "<table border=\"1\" class=\"dataframe\">\n",
       "  <thead>\n",
       "    <tr style=\"text-align: right;\">\n",
       "      <th></th>\n",
       "      <th>count</th>\n",
       "      <th>max</th>\n",
       "      <th>mean</th>\n",
       "      <th>min</th>\n",
       "    </tr>\n",
       "    <tr>\n",
       "      <th>data1</th>\n",
       "      <th></th>\n",
       "      <th></th>\n",
       "      <th></th>\n",
       "      <th></th>\n",
       "    </tr>\n",
       "  </thead>\n",
       "  <tbody>\n",
       "    <tr>\n",
       "      <th>(-3.197, -3.059]</th>\n",
       "      <td>2.0</td>\n",
       "      <td>2.254903</td>\n",
       "      <td>0.417034</td>\n",
       "      <td>-1.420834</td>\n",
       "    </tr>\n",
       "    <tr>\n",
       "      <th>(-3.059, -2.928]</th>\n",
       "      <td>0.0</td>\n",
       "      <td>NaN</td>\n",
       "      <td>NaN</td>\n",
       "      <td>NaN</td>\n",
       "    </tr>\n",
       "    <tr>\n",
       "      <th>(-2.928, -2.797]</th>\n",
       "      <td>0.0</td>\n",
       "      <td>NaN</td>\n",
       "      <td>NaN</td>\n",
       "      <td>NaN</td>\n",
       "    </tr>\n",
       "    <tr>\n",
       "      <th>(-2.797, -2.665]</th>\n",
       "      <td>4.0</td>\n",
       "      <td>1.228239</td>\n",
       "      <td>0.788537</td>\n",
       "      <td>0.211022</td>\n",
       "    </tr>\n",
       "    <tr>\n",
       "      <th>(-2.665, -2.534]</th>\n",
       "      <td>0.0</td>\n",
       "      <td>NaN</td>\n",
       "      <td>NaN</td>\n",
       "      <td>NaN</td>\n",
       "    </tr>\n",
       "    <tr>\n",
       "      <th>(-2.534, -2.403]</th>\n",
       "      <td>4.0</td>\n",
       "      <td>0.795125</td>\n",
       "      <td>-0.233737</td>\n",
       "      <td>-0.920799</td>\n",
       "    </tr>\n",
       "    <tr>\n",
       "      <th>(-2.403, -2.272]</th>\n",
       "      <td>3.0</td>\n",
       "      <td>2.841813</td>\n",
       "      <td>0.823838</td>\n",
       "      <td>-0.443510</td>\n",
       "    </tr>\n",
       "    <tr>\n",
       "      <th>(-2.272, -2.141]</th>\n",
       "      <td>6.0</td>\n",
       "      <td>2.154892</td>\n",
       "      <td>-0.654973</td>\n",
       "      <td>-2.170964</td>\n",
       "    </tr>\n",
       "    <tr>\n",
       "      <th>(-2.141, -2.01]</th>\n",
       "      <td>4.0</td>\n",
       "      <td>0.441118</td>\n",
       "      <td>-0.315693</td>\n",
       "      <td>-0.818919</td>\n",
       "    </tr>\n",
       "    <tr>\n",
       "      <th>(-2.01, -1.879]</th>\n",
       "      <td>7.0</td>\n",
       "      <td>1.897918</td>\n",
       "      <td>0.319298</td>\n",
       "      <td>-1.305402</td>\n",
       "    </tr>\n",
       "    <tr>\n",
       "      <th>(-1.879, -1.747]</th>\n",
       "      <td>12.0</td>\n",
       "      <td>1.566647</td>\n",
       "      <td>-0.179732</td>\n",
       "      <td>-2.080360</td>\n",
       "    </tr>\n",
       "    <tr>\n",
       "      <th>(-1.747, -1.616]</th>\n",
       "      <td>15.0</td>\n",
       "      <td>1.559663</td>\n",
       "      <td>0.087598</td>\n",
       "      <td>-1.720648</td>\n",
       "    </tr>\n",
       "    <tr>\n",
       "      <th>(-1.616, -1.485]</th>\n",
       "      <td>22.0</td>\n",
       "      <td>1.195228</td>\n",
       "      <td>-0.266079</td>\n",
       "      <td>-2.369012</td>\n",
       "    </tr>\n",
       "    <tr>\n",
       "      <th>(-1.485, -1.354]</th>\n",
       "      <td>20.0</td>\n",
       "      <td>2.215142</td>\n",
       "      <td>0.072153</td>\n",
       "      <td>-1.178699</td>\n",
       "    </tr>\n",
       "    <tr>\n",
       "      <th>(-1.354, -1.223]</th>\n",
       "      <td>25.0</td>\n",
       "      <td>1.826302</td>\n",
       "      <td>-0.119485</td>\n",
       "      <td>-2.904398</td>\n",
       "    </tr>\n",
       "    <tr>\n",
       "      <th>(-1.223, -1.092]</th>\n",
       "      <td>24.0</td>\n",
       "      <td>2.088205</td>\n",
       "      <td>-0.021888</td>\n",
       "      <td>-1.526320</td>\n",
       "    </tr>\n",
       "    <tr>\n",
       "      <th>(-1.092, -0.96]</th>\n",
       "      <td>31.0</td>\n",
       "      <td>2.748626</td>\n",
       "      <td>0.166236</td>\n",
       "      <td>-2.107227</td>\n",
       "    </tr>\n",
       "    <tr>\n",
       "      <th>(-0.96, -0.829]</th>\n",
       "      <td>33.0</td>\n",
       "      <td>1.727188</td>\n",
       "      <td>-0.079684</td>\n",
       "      <td>-3.191051</td>\n",
       "    </tr>\n",
       "    <tr>\n",
       "      <th>(-0.829, -0.698]</th>\n",
       "      <td>38.0</td>\n",
       "      <td>2.037847</td>\n",
       "      <td>0.044849</td>\n",
       "      <td>-2.390451</td>\n",
       "    </tr>\n",
       "    <tr>\n",
       "      <th>(-0.698, -0.567]</th>\n",
       "      <td>47.0</td>\n",
       "      <td>3.930004</td>\n",
       "      <td>-0.110657</td>\n",
       "      <td>-2.752032</td>\n",
       "    </tr>\n",
       "    <tr>\n",
       "      <th>(-0.567, -0.436]</th>\n",
       "      <td>50.0</td>\n",
       "      <td>3.215620</td>\n",
       "      <td>0.082921</td>\n",
       "      <td>-2.088413</td>\n",
       "    </tr>\n",
       "    <tr>\n",
       "      <th>(-0.436, -0.305]</th>\n",
       "      <td>48.0</td>\n",
       "      <td>2.490386</td>\n",
       "      <td>0.112334</td>\n",
       "      <td>-2.438866</td>\n",
       "    </tr>\n",
       "    <tr>\n",
       "      <th>(-0.305, -0.174]</th>\n",
       "      <td>52.0</td>\n",
       "      <td>1.361895</td>\n",
       "      <td>-0.271140</td>\n",
       "      <td>-2.109113</td>\n",
       "    </tr>\n",
       "    <tr>\n",
       "      <th>(-0.174, -0.0424]</th>\n",
       "      <td>53.0</td>\n",
       "      <td>1.918523</td>\n",
       "      <td>0.090110</td>\n",
       "      <td>-2.380195</td>\n",
       "    </tr>\n",
       "    <tr>\n",
       "      <th>(-0.0424, 0.0887]</th>\n",
       "      <td>41.0</td>\n",
       "      <td>3.057170</td>\n",
       "      <td>-0.151803</td>\n",
       "      <td>-1.953393</td>\n",
       "    </tr>\n",
       "    <tr>\n",
       "      <th>(0.0887, 0.22]</th>\n",
       "      <td>50.0</td>\n",
       "      <td>1.946188</td>\n",
       "      <td>0.089492</td>\n",
       "      <td>-2.410126</td>\n",
       "    </tr>\n",
       "    <tr>\n",
       "      <th>(0.22, 0.351]</th>\n",
       "      <td>57.0</td>\n",
       "      <td>1.988510</td>\n",
       "      <td>-0.060053</td>\n",
       "      <td>-3.010762</td>\n",
       "    </tr>\n",
       "    <tr>\n",
       "      <th>(0.351, 0.482]</th>\n",
       "      <td>45.0</td>\n",
       "      <td>2.864255</td>\n",
       "      <td>0.112823</td>\n",
       "      <td>-1.904624</td>\n",
       "    </tr>\n",
       "    <tr>\n",
       "      <th>(0.482, 0.613]</th>\n",
       "      <td>35.0</td>\n",
       "      <td>2.260063</td>\n",
       "      <td>0.054337</td>\n",
       "      <td>-1.997573</td>\n",
       "    </tr>\n",
       "    <tr>\n",
       "      <th>(0.613, 0.745]</th>\n",
       "      <td>40.0</td>\n",
       "      <td>1.642496</td>\n",
       "      <td>-0.097039</td>\n",
       "      <td>-1.744713</td>\n",
       "    </tr>\n",
       "    <tr>\n",
       "      <th>(0.745, 0.876]</th>\n",
       "      <td>24.0</td>\n",
       "      <td>2.579823</td>\n",
       "      <td>0.401170</td>\n",
       "      <td>-1.745421</td>\n",
       "    </tr>\n",
       "    <tr>\n",
       "      <th>(0.876, 1.007]</th>\n",
       "      <td>33.0</td>\n",
       "      <td>2.245067</td>\n",
       "      <td>0.181793</td>\n",
       "      <td>-2.500567</td>\n",
       "    </tr>\n",
       "    <tr>\n",
       "      <th>(1.007, 1.138]</th>\n",
       "      <td>29.0</td>\n",
       "      <td>2.428449</td>\n",
       "      <td>0.315384</td>\n",
       "      <td>-2.977046</td>\n",
       "    </tr>\n",
       "    <tr>\n",
       "      <th>(1.138, 1.269]</th>\n",
       "      <td>27.0</td>\n",
       "      <td>1.725022</td>\n",
       "      <td>-0.291274</td>\n",
       "      <td>-2.541086</td>\n",
       "    </tr>\n",
       "    <tr>\n",
       "      <th>(1.269, 1.4]</th>\n",
       "      <td>27.0</td>\n",
       "      <td>2.133074</td>\n",
       "      <td>-0.009816</td>\n",
       "      <td>-1.514808</td>\n",
       "    </tr>\n",
       "    <tr>\n",
       "      <th>(1.4, 1.531]</th>\n",
       "      <td>22.0</td>\n",
       "      <td>1.757881</td>\n",
       "      <td>-0.134666</td>\n",
       "      <td>-2.173896</td>\n",
       "    </tr>\n",
       "    <tr>\n",
       "      <th>(1.531, 1.663]</th>\n",
       "      <td>14.0</td>\n",
       "      <td>1.663389</td>\n",
       "      <td>-0.252479</td>\n",
       "      <td>-1.989131</td>\n",
       "    </tr>\n",
       "    <tr>\n",
       "      <th>(1.663, 1.794]</th>\n",
       "      <td>16.0</td>\n",
       "      <td>1.488125</td>\n",
       "      <td>-0.445080</td>\n",
       "      <td>-1.988498</td>\n",
       "    </tr>\n",
       "    <tr>\n",
       "      <th>(1.794, 1.925]</th>\n",
       "      <td>11.0</td>\n",
       "      <td>1.112381</td>\n",
       "      <td>0.037986</td>\n",
       "      <td>-1.584807</td>\n",
       "    </tr>\n",
       "    <tr>\n",
       "      <th>(1.925, 2.056]</th>\n",
       "      <td>10.0</td>\n",
       "      <td>1.657665</td>\n",
       "      <td>0.123776</td>\n",
       "      <td>-1.737898</td>\n",
       "    </tr>\n",
       "    <tr>\n",
       "      <th>(2.056, 2.187]</th>\n",
       "      <td>4.0</td>\n",
       "      <td>1.218929</td>\n",
       "      <td>-0.006150</td>\n",
       "      <td>-1.573545</td>\n",
       "    </tr>\n",
       "    <tr>\n",
       "      <th>(2.187, 2.318]</th>\n",
       "      <td>3.0</td>\n",
       "      <td>2.096651</td>\n",
       "      <td>-0.245767</td>\n",
       "      <td>-3.189605</td>\n",
       "    </tr>\n",
       "    <tr>\n",
       "      <th>(2.318, 2.45]</th>\n",
       "      <td>5.0</td>\n",
       "      <td>0.591627</td>\n",
       "      <td>-0.156085</td>\n",
       "      <td>-0.869357</td>\n",
       "    </tr>\n",
       "    <tr>\n",
       "      <th>(2.45, 2.581]</th>\n",
       "      <td>1.0</td>\n",
       "      <td>-0.806951</td>\n",
       "      <td>-0.806951</td>\n",
       "      <td>-0.806951</td>\n",
       "    </tr>\n",
       "    <tr>\n",
       "      <th>(2.581, 2.712]</th>\n",
       "      <td>2.0</td>\n",
       "      <td>1.060145</td>\n",
       "      <td>0.832093</td>\n",
       "      <td>0.604040</td>\n",
       "    </tr>\n",
       "    <tr>\n",
       "      <th>(2.712, 2.843]</th>\n",
       "      <td>1.0</td>\n",
       "      <td>0.255403</td>\n",
       "      <td>0.255403</td>\n",
       "      <td>0.255403</td>\n",
       "    </tr>\n",
       "    <tr>\n",
       "      <th>(2.843, 2.974]</th>\n",
       "      <td>0.0</td>\n",
       "      <td>NaN</td>\n",
       "      <td>NaN</td>\n",
       "      <td>NaN</td>\n",
       "    </tr>\n",
       "    <tr>\n",
       "      <th>(2.974, 3.105]</th>\n",
       "      <td>1.0</td>\n",
       "      <td>-1.099103</td>\n",
       "      <td>-1.099103</td>\n",
       "      <td>-1.099103</td>\n",
       "    </tr>\n",
       "    <tr>\n",
       "      <th>(3.105, 3.236]</th>\n",
       "      <td>0.0</td>\n",
       "      <td>NaN</td>\n",
       "      <td>NaN</td>\n",
       "      <td>NaN</td>\n",
       "    </tr>\n",
       "    <tr>\n",
       "      <th>(3.236, 3.368]</th>\n",
       "      <td>2.0</td>\n",
       "      <td>-0.115067</td>\n",
       "      <td>-0.416339</td>\n",
       "      <td>-0.717610</td>\n",
       "    </tr>\n",
       "  </tbody>\n",
       "</table>\n",
       "</div>"
      ],
      "text/plain": [
       "                   count       max      mean       min\n",
       "data1                                                 \n",
       "(-3.197, -3.059]     2.0  2.254903  0.417034 -1.420834\n",
       "(-3.059, -2.928]     0.0       NaN       NaN       NaN\n",
       "(-2.928, -2.797]     0.0       NaN       NaN       NaN\n",
       "(-2.797, -2.665]     4.0  1.228239  0.788537  0.211022\n",
       "(-2.665, -2.534]     0.0       NaN       NaN       NaN\n",
       "(-2.534, -2.403]     4.0  0.795125 -0.233737 -0.920799\n",
       "(-2.403, -2.272]     3.0  2.841813  0.823838 -0.443510\n",
       "(-2.272, -2.141]     6.0  2.154892 -0.654973 -2.170964\n",
       "(-2.141, -2.01]      4.0  0.441118 -0.315693 -0.818919\n",
       "(-2.01, -1.879]      7.0  1.897918  0.319298 -1.305402\n",
       "(-1.879, -1.747]    12.0  1.566647 -0.179732 -2.080360\n",
       "(-1.747, -1.616]    15.0  1.559663  0.087598 -1.720648\n",
       "(-1.616, -1.485]    22.0  1.195228 -0.266079 -2.369012\n",
       "(-1.485, -1.354]    20.0  2.215142  0.072153 -1.178699\n",
       "(-1.354, -1.223]    25.0  1.826302 -0.119485 -2.904398\n",
       "(-1.223, -1.092]    24.0  2.088205 -0.021888 -1.526320\n",
       "(-1.092, -0.96]     31.0  2.748626  0.166236 -2.107227\n",
       "(-0.96, -0.829]     33.0  1.727188 -0.079684 -3.191051\n",
       "(-0.829, -0.698]    38.0  2.037847  0.044849 -2.390451\n",
       "(-0.698, -0.567]    47.0  3.930004 -0.110657 -2.752032\n",
       "(-0.567, -0.436]    50.0  3.215620  0.082921 -2.088413\n",
       "(-0.436, -0.305]    48.0  2.490386  0.112334 -2.438866\n",
       "(-0.305, -0.174]    52.0  1.361895 -0.271140 -2.109113\n",
       "(-0.174, -0.0424]   53.0  1.918523  0.090110 -2.380195\n",
       "(-0.0424, 0.0887]   41.0  3.057170 -0.151803 -1.953393\n",
       "(0.0887, 0.22]      50.0  1.946188  0.089492 -2.410126\n",
       "(0.22, 0.351]       57.0  1.988510 -0.060053 -3.010762\n",
       "(0.351, 0.482]      45.0  2.864255  0.112823 -1.904624\n",
       "(0.482, 0.613]      35.0  2.260063  0.054337 -1.997573\n",
       "(0.613, 0.745]      40.0  1.642496 -0.097039 -1.744713\n",
       "(0.745, 0.876]      24.0  2.579823  0.401170 -1.745421\n",
       "(0.876, 1.007]      33.0  2.245067  0.181793 -2.500567\n",
       "(1.007, 1.138]      29.0  2.428449  0.315384 -2.977046\n",
       "(1.138, 1.269]      27.0  1.725022 -0.291274 -2.541086\n",
       "(1.269, 1.4]        27.0  2.133074 -0.009816 -1.514808\n",
       "(1.4, 1.531]        22.0  1.757881 -0.134666 -2.173896\n",
       "(1.531, 1.663]      14.0  1.663389 -0.252479 -1.989131\n",
       "(1.663, 1.794]      16.0  1.488125 -0.445080 -1.988498\n",
       "(1.794, 1.925]      11.0  1.112381  0.037986 -1.584807\n",
       "(1.925, 2.056]      10.0  1.657665  0.123776 -1.737898\n",
       "(2.056, 2.187]       4.0  1.218929 -0.006150 -1.573545\n",
       "(2.187, 2.318]       3.0  2.096651 -0.245767 -3.189605\n",
       "(2.318, 2.45]        5.0  0.591627 -0.156085 -0.869357\n",
       "(2.45, 2.581]        1.0 -0.806951 -0.806951 -0.806951\n",
       "(2.581, 2.712]       2.0  1.060145  0.832093  0.604040\n",
       "(2.712, 2.843]       1.0  0.255403  0.255403  0.255403\n",
       "(2.843, 2.974]       0.0       NaN       NaN       NaN\n",
       "(2.974, 3.105]       1.0 -1.099103 -1.099103 -1.099103\n",
       "(3.105, 3.236]       0.0       NaN       NaN       NaN\n",
       "(3.236, 3.368]       2.0 -0.115067 -0.416339 -0.717610"
      ]
     },
     "execution_count": 126,
     "metadata": {},
     "output_type": "execute_result"
    }
   ],
   "source": [
    "grouped.apply(get_stats).unstack()"
   ]
  },
  {
   "cell_type": "code",
   "execution_count": null,
   "metadata": {},
   "outputs": [],
   "source": []
  }
 ],
 "metadata": {
  "kernelspec": {
   "display_name": "Python 3",
   "language": "python",
   "name": "python3"
  },
  "language_info": {
   "codemirror_mode": {
    "name": "ipython",
    "version": 3
   },
   "file_extension": ".py",
   "mimetype": "text/x-python",
   "name": "python",
   "nbconvert_exporter": "python",
   "pygments_lexer": "ipython3",
   "version": "3.6.5"
  }
 },
 "nbformat": 4,
 "nbformat_minor": 2
}
