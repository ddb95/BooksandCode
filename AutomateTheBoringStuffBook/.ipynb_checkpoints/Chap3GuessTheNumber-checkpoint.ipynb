{
 "cells": [
  {
   "cell_type": "code",
   "execution_count": 28,
   "metadata": {},
   "outputs": [],
   "source": [
    "import random\n",
    "def checkNumber(a,b):\n",
    "    if(a==b):\n",
    "        print('Again Select the second number')\n",
    "        b= int(input())\n",
    "    elif(a>b):\n",
    "        print('Again Select the second number')\n",
    "        b= int(input())\n"
   ]
  },
  {
   "cell_type": "code",
   "execution_count": 36,
   "metadata": {},
   "outputs": [],
   "source": [
    "def randomNumberGame():\n",
    "    print('Type 2 random numbers')\n",
    "    print('1st Number: ')\n",
    "    a= int(input())\n",
    "    print('2nd Number: ')\n",
    "    b= int(input())\n",
    "    checkNumber(a,b)\n",
    "    num= random.randint(a,b)\n",
    "    print('Alright lets select a random number Player 2')\n",
    "    print('Lets Guess')\n",
    "    c = int(input())\n",
    "    count = 0;\n",
    "    if(c==num):\n",
    "        print('Congratulations, Correctly Selected')\n",
    "        count=count+1\n",
    "        print('Correct in {0} times'.format(count))\n",
    "    elif(c<num):\n",
    "        print('Too far away')\n",
    "        c = int(input())\n",
    "        count=count+1\n",
    "        print('Correct in {0} times'.format(count))\n",
    "    elif(c<a or c>b):\n",
    "        print('Please Select a number between {0} and {1}'.format(a,b))\n",
    "        c = int(input())\n",
    "        count=count+1\n",
    "        print('Correct in {0} times'.format(count))"
   ]
  },
  {
   "cell_type": "code",
   "execution_count": 37,
   "metadata": {},
   "outputs": [
    {
     "name": "stdout",
     "output_type": "stream",
     "text": [
      "Type 2 random numbers\n",
      "1st Number: \n",
      "2\n",
      "2nd Number: \n",
      "5\n",
      "Alright lets select a random number Player 2\n",
      "Lets Guess\n",
      "9\n",
      "Please Select a number between 2 and 5\n",
      "3\n",
      "Correct in 1 times\n"
     ]
    }
   ],
   "source": [
    "randomNumberGame()"
   ]
  },
  {
   "cell_type": "raw",
   "metadata": {},
   "source": []
  }
 ],
 "metadata": {
  "kernelspec": {
   "display_name": "Python 3",
   "language": "python",
   "name": "python3"
  },
  "language_info": {
   "codemirror_mode": {
    "name": "ipython",
    "version": 3
   },
   "file_extension": ".py",
   "mimetype": "text/x-python",
   "name": "python",
   "nbconvert_exporter": "python",
   "pygments_lexer": "ipython3",
   "version": "3.6.5"
  }
 },
 "nbformat": 4,
 "nbformat_minor": 2
}
